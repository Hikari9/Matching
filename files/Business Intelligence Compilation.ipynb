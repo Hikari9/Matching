{
 "cells": [
  {
   "cell_type": "markdown",
   "metadata": {
    "collapsed": true
   },
   "source": [
    "<center><h1>Compilation of Kalibrr Demographics Data</h1></center>"
   ]
  },
  {
   "cell_type": "markdown",
   "metadata": {},
   "source": [
    "#Section I. Jobseekers"
   ]
  },
  {
   "cell_type": "markdown",
   "metadata": {
    "collapsed": true
   },
   "source": [
    "## A. Geographic Distribution"
   ]
  },
  {
   "cell_type": "markdown",
   "metadata": {},
   "source": [
    "### A.1. Distribution of Users Around the Globe\n",
    "<img src=\"user-global-dist.png\" style=\"max-width: 90%;\"/>"
   ]
  },
  {
   "cell_type": "markdown",
   "metadata": {},
   "source": [
    "### A.2. Heatmap of Users in the Philippines\n",
    "<img src=\"user-phil-heatmap.png\" style=\"max-width: 90%;\"/>"
   ]
  },
  {
   "cell_type": "markdown",
   "metadata": {},
   "source": [
    "### A.3. Distribution of Users in the Philippines\n",
    "<img src=\"user-phil-dist.png\" style=\"max-width: 90%;\"/>"
   ]
  },
  {
   "cell_type": "markdown",
   "metadata": {},
   "source": [
    "## B. Education Data"
   ]
  },
  {
   "cell_type": "markdown",
   "metadata": {},
   "source": [
    "### B.1. Courses of Users\n",
    "<img src=\"user-course.png\" style=\"max-width: 90%;\"/>"
   ]
  },
  {
   "cell_type": "markdown",
   "metadata": {},
   "source": [
    "### B.2. Level of Education of Users\n",
    "<img src=\"files/user-educ-level.png\" style=\"max-width: 90%;\"/>"
   ]
  },
  {
   "cell_type": "markdown",
   "metadata": {},
   "source": [
    "### B.3. Schools of Users\n",
    "<img src=\"user-school.png\" style=\"max-width: 90%;\"/>"
   ]
  },
  {
   "cell_type": "markdown",
   "metadata": {},
   "source": [
    "## C. Work History Information"
   ]
  },
  {
   "cell_type": "markdown",
   "metadata": {},
   "source": [
    "### C.1. Job Titles of Users' Previously Held Jobs\n",
    "<img src=\"user-work-job-title.png\" style=\"max-width: 90%;\"/>"
   ]
  },
  {
   "cell_type": "markdown",
   "metadata": {},
   "source": [
    "### C.2. Industries of Users' Previously Held Jobs\n",
    "<img src=\"user-work-industry.png\" style=\"max-width: 90%;\"/>"
   ]
  },
  {
   "cell_type": "markdown",
   "metadata": {},
   "source": [
    "### C.3. Length of Work Experience of Users\n",
    "<img src=\"user-work-exp.png\" style=\"max-width: 90%;\"/>"
   ]
  },
  {
   "cell_type": "markdown",
   "metadata": {},
   "source": [
    "## D. Self-declared Information"
   ]
  },
  {
   "cell_type": "markdown",
   "metadata": {},
   "source": [
    "### D.1. Self-declared Skills\n",
    "<img src=\"user-sd-skill.png\" style=\"max-width: 90%;\"/>"
   ]
  },
  {
   "cell_type": "markdown",
   "metadata": {},
   "source": [
    "### D.2. Self-declared Desired Job Title\n",
    "<img src=\"user-sd-job.png\" style=\"max-width: 90%;\"/>"
   ]
  },
  {
   "cell_type": "markdown",
   "metadata": {},
   "source": [
    "### D.3. Self-declared Job Category\n",
    "<img src=\"user-sd-job-category.png\" style=\"max-width: 90%;\"/>"
   ]
  },
  {
   "cell_type": "markdown",
   "metadata": {},
   "source": [
    "## E. Age\n",
    "<img src=\"user-age.png\" style=\"max-width: 90%;\"/>"
   ]
  },
  {
   "cell_type": "markdown",
   "metadata": {},
   "source": [
    "# Section II. Jobs"
   ]
  },
  {
   "cell_type": "markdown",
   "metadata": {},
   "source": [
    "## A. Industries of Jobs\n",
    "<img src=\"job-industry.png\" style=\"max-width: 90%;\"/>"
   ]
  },
  {
   "cell_type": "markdown",
   "metadata": {},
   "source": [
    "## B. Job Titles\n",
    "<img src=\"job-title.png\" style=\"max-width: 90%;\"/>"
   ]
  },
  {
   "cell_type": "markdown",
   "metadata": {},
   "source": [
    "## C. Number of Job Posts per Company\n",
    "<img src=\"job-post-per-company.png\" style=\"max-width: 90%;\"/>"
   ]
  }
 ],
 "metadata": {
  "kernelspec": {
   "display_name": "Python 2",
   "language": "python",
   "name": "python2"
  },
  "language_info": {
   "codemirror_mode": {
    "name": "ipython",
    "version": 2
   },
   "file_extension": ".py",
   "mimetype": "text/x-python",
   "name": "python",
   "nbconvert_exporter": "python",
   "pygments_lexer": "ipython2",
   "version": "2.7.6"
  }
 },
 "nbformat": 4,
 "nbformat_minor": 0
}
