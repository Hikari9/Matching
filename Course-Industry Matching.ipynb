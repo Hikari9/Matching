{
 "cells": [
  {
   "cell_type": "code",
   "execution_count": 23,
   "metadata": {
    "collapsed": false,
    "scrolled": false
   },
   "outputs": [
    {
     "name": "stdout",
     "output_type": "stream",
     "text": [
      "CPU times: user 6.67 ms, sys: 0 ns, total: 6.67 ms\n",
      "Wall time: 5.19 ms\n"
     ]
    }
   ],
   "source": [
    "%%time\n",
    "from algoutils import *\n",
    "\n",
    "raw_courses = read('data/courses.txt')\n",
    "raw_industries = read('data/industries.txt')\n",
    "raw_job_industries = read('data/job_industries.txt')"
   ]
  },
  {
   "cell_type": "code",
   "execution_count": 24,
   "metadata": {
    "collapsed": false
   },
   "outputs": [
    {
     "name": "stdout",
     "output_type": "stream",
     "text": [
      "CPU times: user 11.3 s, sys: 10 ms, total: 11.3 s\n",
      "Wall time: 11.3 s\n"
     ]
    }
   ],
   "source": [
    "%%time\n",
    "# note: enchant module and library should be installed\n",
    "from cleaning import clean\n",
    "\n",
    "clean_courses = clean(raw_courses, 'course', 'data/course_dictionary.txt')\n",
    "clean_industries = clean(raw_industries, 'industry', 'data/industry_dictionary.txt')\n",
    "clean_job_industries = clean(raw_job_industries, 'industry', 'data/industry_dictionary.txt')"
   ]
  },
  {
   "cell_type": "code",
   "execution_count": 25,
   "metadata": {
    "collapsed": false,
    "scrolled": false
   },
   "outputs": [
    {
     "name": "stdout",
     "output_type": "stream",
     "text": [
      "CPU times: user 63.3 ms, sys: 0 ns, total: 63.3 ms\n",
      "Wall time: 59.5 ms\n"
     ]
    }
   ],
   "source": [
    "%%time\n",
    "# note: nltk module and nltk.wordnet corpus should be installed\n",
    "from clustering import stem_cluster\n",
    " \n",
    "course_clusters = stem_cluster(clean_courses)\n",
    "industry_clusters = stem_cluster(clean_industries)\n",
    "job_industry_clusters = stem_cluster(clean_job_industries, mode=5)"
   ]
  },
  {
   "cell_type": "code",
   "execution_count": 26,
   "metadata": {
    "collapsed": false,
    "scrolled": true
   },
   "outputs": [
    {
     "data": {
      "text/plain": [
       "['ACCOUNTANCY',\n",
       " 'ACCOUNTING',\n",
       " 'ADMINISTRATION',\n",
       " 'ADVERTISING',\n",
       " 'AGRIBUSINESS',\n",
       " 'AGRICULTURAL',\n",
       " 'AGRICULTURE',\n",
       " 'ANIMATION',\n",
       " 'APPLIED',\n",
       " 'ARCHITECTURAL']"
      ]
     },
     "execution_count": 26,
     "metadata": {},
     "output_type": "execute_result"
    }
   ],
   "source": [
    "sorted(course_clusters)[:10]"
   ]
  },
  {
   "cell_type": "code",
   "execution_count": 27,
   "metadata": {
    "collapsed": false
   },
   "outputs": [
    {
     "data": {
      "text/plain": [
       "['ACCOUNTING',\n",
       " 'ADVERTISING',\n",
       " 'AGENCY',\n",
       " 'ASSISTANT',\n",
       " 'AUTOMOTIVE',\n",
       " 'BANKING',\n",
       " 'BEAUTY',\n",
       " 'BPO',\n",
       " 'BROKERAGE',\n",
       " 'BUILDING']"
      ]
     },
     "execution_count": 27,
     "metadata": {},
     "output_type": "execute_result"
    }
   ],
   "source": [
    "sorted(industry_clusters)[:10]"
   ]
  },
  {
   "cell_type": "code",
   "execution_count": 28,
   "metadata": {
    "collapsed": false
   },
   "outputs": [
    {
     "data": {
      "text/plain": [
       "['BUSINESS',\n",
       " 'CALLCENTER',\n",
       " 'COMPUTER',\n",
       " 'CONSTRUCTION',\n",
       " 'DEPARTMENT',\n",
       " 'DESIGN',\n",
       " 'DEVELOPMENT',\n",
       " 'DISTRIBUTION',\n",
       " 'EDUCATION',\n",
       " 'ENGINE']"
      ]
     },
     "execution_count": 28,
     "metadata": {},
     "output_type": "execute_result"
    }
   ],
   "source": [
    "sorted(job_industry_clusters)[:10]"
   ]
  },
  {
   "cell_type": "code",
   "execution_count": 29,
   "metadata": {
    "collapsed": false,
    "scrolled": true
   },
   "outputs": [
    {
     "name": "stdout",
     "output_type": "stream",
     "text": [
      "CPU times: user 86.7 ms, sys: 0 ns, total: 86.7 ms\n",
      "Wall time: 86.2 ms\n"
     ]
    }
   ],
   "source": [
    "%%time\n",
    "\n",
    "from analysis import *\n",
    "\n",
    "# note: pandas and sklearn modules should be installed\n",
    "# initializes a likelihood data frame based on row and column labels.\n",
    "# Performs a content-based filtering technique using features.\n",
    "# vectorizer can be 'tfidf' or 'count'\n",
    "\n",
    "CourseIndustry = likelihood_matrix(course_clusters, industry_clusters, vectorizer='tfidf', ngram_range=(3,4))"
   ]
  },
  {
   "cell_type": "code",
   "execution_count": 30,
   "metadata": {
    "collapsed": false
   },
   "outputs": [
    {
     "data": {
      "text/html": [
       "<div style=\"max-height:1000px;max-width:1500px;overflow:auto;\">\n",
       "<table border=\"1\" class=\"dataframe\">\n",
       "  <thead>\n",
       "    <tr style=\"text-align: right;\">\n",
       "      <th></th>\n",
       "      <th>ENGINE</th>\n",
       "      <th>REPAIR</th>\n",
       "      <th>HARDWARE</th>\n",
       "      <th>PRODUCT</th>\n",
       "      <th>PARTS</th>\n",
       "      <th>CALLCENTER</th>\n",
       "      <th>LINE</th>\n",
       "      <th>CAFE</th>\n",
       "      <th>CUSTOMER</th>\n",
       "      <th>OFFICE</th>\n",
       "      <th>...</th>\n",
       "      <th>STORE</th>\n",
       "      <th>BUILDING</th>\n",
       "      <th>CITY</th>\n",
       "      <th>PLANT</th>\n",
       "      <th>PUBLISHING</th>\n",
       "      <th>FABRICATION</th>\n",
       "      <th>HEALTH</th>\n",
       "      <th>ASSISTANT</th>\n",
       "      <th>DISTRIBUTOR</th>\n",
       "      <th>BROKERAGE</th>\n",
       "    </tr>\n",
       "  </thead>\n",
       "  <tbody>\n",
       "    <tr>\n",
       "      <th>LINGUISTICS</th>\n",
       "      <td>0</td>\n",
       "      <td>0</td>\n",
       "      <td>0</td>\n",
       "      <td>0</td>\n",
       "      <td>0</td>\n",
       "      <td>0.000000</td>\n",
       "      <td>0.111031</td>\n",
       "      <td>0</td>\n",
       "      <td>0</td>\n",
       "      <td>0</td>\n",
       "      <td>...</td>\n",
       "      <td>0</td>\n",
       "      <td>0.023</td>\n",
       "      <td>0</td>\n",
       "      <td>0</td>\n",
       "      <td>0.020312</td>\n",
       "      <td>0.000000</td>\n",
       "      <td>0</td>\n",
       "      <td>0.045016</td>\n",
       "      <td>0.042213</td>\n",
       "      <td>0</td>\n",
       "    </tr>\n",
       "    <tr>\n",
       "      <th>HARDWARE</th>\n",
       "      <td>0</td>\n",
       "      <td>0</td>\n",
       "      <td>1</td>\n",
       "      <td>0</td>\n",
       "      <td>0</td>\n",
       "      <td>0.000000</td>\n",
       "      <td>0.000000</td>\n",
       "      <td>0</td>\n",
       "      <td>0</td>\n",
       "      <td>0</td>\n",
       "      <td>...</td>\n",
       "      <td>0</td>\n",
       "      <td>0.000</td>\n",
       "      <td>0</td>\n",
       "      <td>0</td>\n",
       "      <td>0.000000</td>\n",
       "      <td>0.000000</td>\n",
       "      <td>0</td>\n",
       "      <td>0.000000</td>\n",
       "      <td>0.000000</td>\n",
       "      <td>0</td>\n",
       "    </tr>\n",
       "    <tr>\n",
       "      <th>AGRICULTURAL</th>\n",
       "      <td>0</td>\n",
       "      <td>0</td>\n",
       "      <td>0</td>\n",
       "      <td>0</td>\n",
       "      <td>0</td>\n",
       "      <td>0.000000</td>\n",
       "      <td>0.000000</td>\n",
       "      <td>0</td>\n",
       "      <td>0</td>\n",
       "      <td>0</td>\n",
       "      <td>...</td>\n",
       "      <td>0</td>\n",
       "      <td>0.000</td>\n",
       "      <td>0</td>\n",
       "      <td>0</td>\n",
       "      <td>0.000000</td>\n",
       "      <td>0.052721</td>\n",
       "      <td>0</td>\n",
       "      <td>0.000000</td>\n",
       "      <td>0.000000</td>\n",
       "      <td>0</td>\n",
       "    </tr>\n",
       "    <tr>\n",
       "      <th>ELEMENTARY</th>\n",
       "      <td>0</td>\n",
       "      <td>0</td>\n",
       "      <td>0</td>\n",
       "      <td>0</td>\n",
       "      <td>0</td>\n",
       "      <td>0.034037</td>\n",
       "      <td>0.000000</td>\n",
       "      <td>0</td>\n",
       "      <td>0</td>\n",
       "      <td>0</td>\n",
       "      <td>...</td>\n",
       "      <td>0</td>\n",
       "      <td>0.000</td>\n",
       "      <td>0</td>\n",
       "      <td>0</td>\n",
       "      <td>0.000000</td>\n",
       "      <td>0.000000</td>\n",
       "      <td>0</td>\n",
       "      <td>0.000000</td>\n",
       "      <td>0.000000</td>\n",
       "      <td>0</td>\n",
       "    </tr>\n",
       "    <tr>\n",
       "      <th>NCII</th>\n",
       "      <td>0</td>\n",
       "      <td>0</td>\n",
       "      <td>0</td>\n",
       "      <td>0</td>\n",
       "      <td>0</td>\n",
       "      <td>0.000000</td>\n",
       "      <td>0.000000</td>\n",
       "      <td>0</td>\n",
       "      <td>0</td>\n",
       "      <td>0</td>\n",
       "      <td>...</td>\n",
       "      <td>0</td>\n",
       "      <td>0.000</td>\n",
       "      <td>0</td>\n",
       "      <td>0</td>\n",
       "      <td>0.000000</td>\n",
       "      <td>0.000000</td>\n",
       "      <td>0</td>\n",
       "      <td>0.000000</td>\n",
       "      <td>0.000000</td>\n",
       "      <td>0</td>\n",
       "    </tr>\n",
       "  </tbody>\n",
       "</table>\n",
       "<p>5 rows × 142 columns</p>\n",
       "</div>"
      ],
      "text/plain": [
       "              ENGINE  REPAIR  HARDWARE  PRODUCT  PARTS  CALLCENTER      LINE  \\\n",
       "LINGUISTICS        0       0         0        0      0    0.000000  0.111031   \n",
       "HARDWARE           0       0         1        0      0    0.000000  0.000000   \n",
       "AGRICULTURAL       0       0         0        0      0    0.000000  0.000000   \n",
       "ELEMENTARY         0       0         0        0      0    0.034037  0.000000   \n",
       "NCII               0       0         0        0      0    0.000000  0.000000   \n",
       "\n",
       "              CAFE  CUSTOMER  OFFICE    ...      STORE  BUILDING  CITY  PLANT  \\\n",
       "LINGUISTICS      0         0       0    ...          0     0.023     0      0   \n",
       "HARDWARE         0         0       0    ...          0     0.000     0      0   \n",
       "AGRICULTURAL     0         0       0    ...          0     0.000     0      0   \n",
       "ELEMENTARY       0         0       0    ...          0     0.000     0      0   \n",
       "NCII             0         0       0    ...          0     0.000     0      0   \n",
       "\n",
       "              PUBLISHING  FABRICATION  HEALTH  ASSISTANT  DISTRIBUTOR  \\\n",
       "LINGUISTICS     0.020312     0.000000       0   0.045016     0.042213   \n",
       "HARDWARE        0.000000     0.000000       0   0.000000     0.000000   \n",
       "AGRICULTURAL    0.000000     0.052721       0   0.000000     0.000000   \n",
       "ELEMENTARY      0.000000     0.000000       0   0.000000     0.000000   \n",
       "NCII            0.000000     0.000000       0   0.000000     0.000000   \n",
       "\n",
       "              BROKERAGE  \n",
       "LINGUISTICS           0  \n",
       "HARDWARE              0  \n",
       "AGRICULTURAL          0  \n",
       "ELEMENTARY            0  \n",
       "NCII                  0  \n",
       "\n",
       "[5 rows x 142 columns]"
      ]
     },
     "execution_count": 30,
     "metadata": {},
     "output_type": "execute_result"
    }
   ],
   "source": [
    "CourseIndustry.dataframe.head()"
   ]
  },
  {
   "cell_type": "code",
   "execution_count": 31,
   "metadata": {
    "collapsed": false,
    "scrolled": true
   },
   "outputs": [
    {
     "name": "stdout",
     "output_type": "stream",
     "text": [
      "CPU times: user 123 ms, sys: 3.33 ms, total: 127 ms\n",
      "Wall time: 124 ms\n"
     ]
    }
   ],
   "source": [
    "%%time\n",
    "\n",
    "# note: pandas and sklearn modules should be installed\n",
    "# derives the change in likelihood if an entry\n",
    "\n",
    "# computes delta likelihood using the following steps: (non-verbatim)\n",
    "# clabels = df.column_labels\n",
    "# rlabels = df.row_labels\n",
    "# vr = [cos_similarity(ur, label) for label in rlabels]\n",
    "# vc = [cos_similarity(vr, label) for label in clabels]\n",
    "# dL = vr * vc^T\n",
    "\n",
    "d1 = CourseIndustry.delta('CALLCENTE', 'BUSINESS')\n",
    "d2 = CourseIndustry.delta('MARKETING', 'RESEARCH & DEVELOPMENT')\n",
    "d3 = CourseIndustry.delta('AGRICULTURE', 'FINANCE')"
   ]
  },
  {
   "cell_type": "code",
   "execution_count": 32,
   "metadata": {
    "collapsed": false
   },
   "outputs": [
    {
     "name": "stdout",
     "output_type": "stream",
     "text": [
      "CPU times: user 287 ms, sys: 3.33 ms, total: 290 ms\n",
      "Wall time: 290 ms\n"
     ]
    }
   ],
   "source": [
    "%%time\n",
    "\n",
    "# dynamic update of likelihood matrix\n",
    "# just accumulate small likelihoods\n",
    "# accounts for relative likelihood and not absolute percentage\n",
    "\n",
    "users = [\n",
    "    ('COMPUTER SCIENCE', 'INFORMATION TECHNOLOGY'),\n",
    "    ('ACCOUNTING', 'BUSINESS'),\n",
    "    ('BUSINESS ADMINSTRATION', 'FINANCE'),\n",
    "    ('MARKETING', 'FINANCE'),\n",
    "    ('MATHEMATICS', 'FINANCE'),\n",
    "    ('SOCIAL SCIENCE', 'CONSULATION'),\n",
    "    ('LITERATURE', 'WRITING'),\n",
    "    ('MANAGEMENT', 'BANKING'),\n",
    "    ('SCIENCES', 'RESEARCH')\n",
    "]\n",
    "\n",
    "for course, industry in users:\n",
    "    CourseIndustry.add_match(course, industry)"
   ]
  },
  {
   "cell_type": "code",
   "execution_count": 33,
   "metadata": {
    "collapsed": false
   },
   "outputs": [
    {
     "name": "stdout",
     "output_type": "stream",
     "text": [
      "CPU times: user 3.33 ms, sys: 0 ns, total: 3.33 ms\n",
      "Wall time: 1.28 ms\n"
     ]
    },
    {
     "data": {
      "text/plain": [
       "BUSINESS        1.000000\n",
       "ACCOUNTING      1.000000\n",
       "AGRIBUSINESS    0.751331\n",
       "ACCOUNTANCY     0.592993\n",
       "WRITING         0.164020\n",
       "DRAFTING        0.139844\n",
       "MARKETING       0.127857\n",
       "NURSING         0.110499\n",
       "ADVERTISING     0.076887\n",
       "MARINE          0.072553\n",
       "Name: BUSINESS, dtype: float64"
      ]
     },
     "execution_count": 33,
     "metadata": {},
     "output_type": "execute_result"
    }
   ],
   "source": [
    "# get specific likelihood coefficient of a pair of clusters\n",
    "# e.g. likelihood of courses from the BUSINESS industry\n",
    "\n",
    "# note: 1.00 does not mean 100%\n",
    "# likelihood metric is relative\n",
    "# the more data, the more accurate the prediction\n",
    "\n",
    "%time CourseIndustry.dataframe.BUSINESS.nlargest(10)"
   ]
  },
  {
   "cell_type": "code",
   "execution_count": 34,
   "metadata": {
    "collapsed": false
   },
   "outputs": [
    {
     "name": "stdout",
     "output_type": "stream",
     "text": [
      "CPU times: user 0 ns, sys: 0 ns, total: 0 ns\n",
      "Wall time: 1.51 ms\n"
     ]
    },
    {
     "data": {
      "text/plain": [
       "RESEARCH       0.952430\n",
       "INFORMATION    0.632183\n",
       "TECHNOLOGY     0.462987\n",
       "CONSULTING     0.412805\n",
       "CONSULTANCY    0.370199\n",
       "EDUCATION      0.258203\n",
       "Name: SCIENCE, dtype: float64"
      ]
     },
     "execution_count": 34,
     "metadata": {},
     "output_type": "execute_result"
    }
   ],
   "source": [
    "%%time\n",
    "\n",
    "# transpose data frame for rows\n",
    "CourseIndustry.dataframe.T.SCIENCE.nlargest(6)"
   ]
  },
  {
   "cell_type": "code",
   "execution_count": 35,
   "metadata": {
    "collapsed": false
   },
   "outputs": [
    {
     "name": "stdout",
     "output_type": "stream",
     "text": [
      "CPU times: user 20 ms, sys: 0 ns, total: 20 ms\n",
      "Wall time: 19.2 ms\n"
     ]
    }
   ],
   "source": [
    "%%time\n",
    "\n",
    "# add count from a specific matching pair\n",
    "# note: this is synonymous to CourseIndustry.dataframe += CourseIndustry.delta('PHYSICS', 'REPAIR SUPPLY')\n",
    "\n",
    "CourseIndustry.add_match('PHYSICS', 'RESEARCH')"
   ]
  },
  {
   "cell_type": "code",
   "execution_count": 36,
   "metadata": {
    "collapsed": false
   },
   "outputs": [
    {
     "name": "stdout",
     "output_type": "stream",
     "text": [
      "CPU times: user 3.33 ms, sys: 0 ns, total: 3.33 ms\n",
      "Wall time: 688 µs\n"
     ]
    }
   ],
   "source": [
    "%%time\n",
    "\n",
    "# returns a vector of recommend likelihood of a course from a specific industry\n",
    "# since courses are rows, we find column matches\n",
    "# we can also make the method output percentages\n",
    "\n",
    "matches = CourseIndustry.find_column_matches('PHYSICS', with_labels = True, percentage = True)"
   ]
  },
  {
   "cell_type": "code",
   "execution_count": 37,
   "metadata": {
    "collapsed": false
   },
   "outputs": [
    {
     "data": {
      "text/plain": [
       "RESEARCH       55.662739\n",
       "MEDICAL         5.643027\n",
       "ELECTRICAL      5.305848\n",
       "ELECTRONICS     4.931548\n",
       "FINANCE         4.829725\n",
       "dtype: float64"
      ]
     },
     "execution_count": 37,
     "metadata": {},
     "output_type": "execute_result"
    }
   ],
   "source": [
    "# rank recommendations with the highest percentage\n",
    "matches.nlargest(5)"
   ]
  },
  {
   "cell_type": "code",
   "execution_count": 38,
   "metadata": {
    "collapsed": false
   },
   "outputs": [
    {
     "name": "stdout",
     "output_type": "stream",
     "text": [
      "CPU times: user 30 ms, sys: 0 ns, total: 30 ms\n",
      "Wall time: 27.9 ms\n"
     ]
    },
    {
     "data": {
      "text/plain": [
       "55.353636624354294"
      ]
     },
     "execution_count": 38,
     "metadata": {},
     "output_type": "execute_result"
    }
   ],
   "source": [
    "%%time\n",
    "\n",
    "# we can also get the recommendation score of a specific pair\n",
    "# this is equivalent to SV1^T * LM * SV2^T\n",
    "# where SV is similarity_vector, LM is likelihood matrix\n",
    "\n",
    "CourseIndustry.recommendation_score('PHYSICS', 'SCIENTIFIC RESEARCH')"
   ]
  },
  {
   "cell_type": "code",
   "execution_count": 39,
   "metadata": {
    "collapsed": false
   },
   "outputs": [],
   "source": [
    "# You can also get the dot product of data frames\n",
    "# to get bridged likelihood\n",
    "\n",
    "IndustryJob = likelihood_matrix(industry_clusters, job_industry_clusters, vectorizer='tfidf', ngram_range=(3,4))\n",
    "CourseJob = CourseIndustry * IndustryJob"
   ]
  },
  {
   "cell_type": "code",
   "execution_count": 40,
   "metadata": {
    "collapsed": false
   },
   "outputs": [
    {
     "data": {
      "text/plain": [
       "0.28752848943447895"
      ]
     },
     "execution_count": 40,
     "metadata": {},
     "output_type": "execute_result"
    }
   ],
   "source": [
    "CourseJob.recommendation_score('PHYSICS', 'MANAGEMENT')"
   ]
  },
  {
   "cell_type": "code",
   "execution_count": 41,
   "metadata": {
    "collapsed": false
   },
   "outputs": [
    {
     "data": {
      "text/plain": [
       "2.0381146684142672"
      ]
     },
     "execution_count": 41,
     "metadata": {},
     "output_type": "execute_result"
    }
   ],
   "source": [
    "CourseJob.recommendation_score('COMPUTER SCIENCE', 'ARCHITECTURE')"
   ]
  },
  {
   "cell_type": "code",
   "execution_count": 42,
   "metadata": {
    "collapsed": false
   },
   "outputs": [
    {
     "data": {
      "text/plain": [
       "37.428856177544361"
      ]
     },
     "execution_count": 42,
     "metadata": {},
     "output_type": "execute_result"
    }
   ],
   "source": [
    "CourseJob.recommendation_score('COMPUTER SCIENCE', 'TECHNOLOGY')"
   ]
  },
  {
   "cell_type": "code",
   "execution_count": 43,
   "metadata": {
    "collapsed": true
   },
   "outputs": [],
   "source": [
    "# after adding a match to course and a job, recommendation score should go up\n",
    "CourseJob.add_match('COMPUTER SCIENCE', 'TECHNOLOGY')\n",
    "CourseJob.add_match('PROGRAMMING', 'COMPUTER')"
   ]
  },
  {
   "cell_type": "code",
   "execution_count": 44,
   "metadata": {
    "collapsed": false
   },
   "outputs": [
    {
     "data": {
      "text/plain": [
       "69.022835016757483"
      ]
     },
     "execution_count": 44,
     "metadata": {},
     "output_type": "execute_result"
    }
   ],
   "source": [
    "CourseJob.recommendation_score('PROGRAMMING', 'COMPUTER')"
   ]
  },
  {
   "cell_type": "code",
   "execution_count": null,
   "metadata": {
    "collapsed": true
   },
   "outputs": [],
   "source": []
  }
 ],
 "metadata": {
  "kernelspec": {
   "display_name": "Python 2",
   "language": "python",
   "name": "python2"
  },
  "language_info": {
   "codemirror_mode": {
    "name": "ipython",
    "version": 2
   },
   "file_extension": ".py",
   "mimetype": "text/x-python",
   "name": "python",
   "nbconvert_exporter": "python",
   "pygments_lexer": "ipython2",
   "version": "2.7.6"
  }
 },
 "nbformat": 4,
 "nbformat_minor": 0
}
