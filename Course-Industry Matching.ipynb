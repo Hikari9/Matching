{
 "cells": [
  {
   "cell_type": "code",
   "execution_count": 23,
   "metadata": {
    "collapsed": false,
    "scrolled": false
   },
   "outputs": [
    {
     "name": "stdout",
     "output_type": "stream",
     "text": [
<<<<<<< HEAD
      "CPU times: user 4 ms, sys: 0 ns, total: 4 ms\n",
      "Wall time: 3.39 ms\n"
=======
      "CPU times: user 6.67 ms, sys: 0 ns, total: 6.67 ms\n",
      "Wall time: 5.19 ms\n"
>>>>>>> 61fd994dcf962b61caad03ff01027568b4f165ee
     ]
    }
   ],
   "source": [
    "%%time\n",
    "from algoutils import *\n",
    "\n",
    "raw_courses = read('data/courses.txt')\n",
    "raw_industries = read('data/industries.txt')\n",
    "raw_job_industries = read('data/job_industries.txt')"
   ]
  },
  {
   "cell_type": "code",
   "execution_count": 24,
   "metadata": {
    "collapsed": false
   },
   "outputs": [
    {
     "name": "stdout",
     "output_type": "stream",
     "text": [
<<<<<<< HEAD
      "CPU times: user 12.8 s, sys: 108 ms, total: 12.9 s\n",
      "Wall time: 12.8 s\n"
=======
      "CPU times: user 11.3 s, sys: 10 ms, total: 11.3 s\n",
      "Wall time: 11.3 s\n"
>>>>>>> 61fd994dcf962b61caad03ff01027568b4f165ee
     ]
    }
   ],
   "source": [
    "%%time\n",
    "# note: enchant module and library should be installed\n",
    "from cleaning import clean\n",
    "\n",
    "clean_courses = clean(raw_courses, 'course', 'data/course_dictionary.txt')\n",
    "clean_industries = clean(raw_industries, 'industry', 'data/industry_dictionary.txt')\n",
    "clean_job_industries = clean(raw_job_industries, 'industry', 'data/industry_dictionary.txt')"
   ]
  },
  {
   "cell_type": "code",
   "execution_count": 25,
   "metadata": {
    "collapsed": false,
    "scrolled": false
   },
   "outputs": [
    {
     "name": "stdout",
     "output_type": "stream",
     "text": [
<<<<<<< HEAD
      "CPU times: user 3.06 s, sys: 72 ms, total: 3.14 s\n",
      "Wall time: 3.12 s\n"
=======
      "CPU times: user 63.3 ms, sys: 0 ns, total: 63.3 ms\n",
      "Wall time: 59.5 ms\n"
>>>>>>> 61fd994dcf962b61caad03ff01027568b4f165ee
     ]
    }
   ],
   "source": [
    "%%time\n",
    "# note: nltk module and nltk.wordnet corpus should be installed\n",
    "from clustering import stem_cluster\n",
    " \n",
    "course_clusters = stem_cluster(clean_courses)\n",
    "industry_clusters = stem_cluster(clean_industries)\n",
    "job_industry_clusters = stem_cluster(clean_job_industries, mode=5)"
   ]
  },
  {
   "cell_type": "code",
   "execution_count": 26,
   "metadata": {
    "collapsed": false,
    "scrolled": true
   },
   "outputs": [
    {
     "data": {
      "text/plain": [
       "['ACCOUNTANCY',\n",
       " 'ACCOUNTING',\n",
       " 'ADMINISTRATION',\n",
       " 'ADVERTISING',\n",
       " 'AGRIBUSINESS',\n",
       " 'AGRICULTURAL',\n",
       " 'AGRICULTURE',\n",
       " 'ANIMATION',\n",
       " 'APPLIED',\n",
       " 'ARCHITECTURAL']"
      ]
     },
     "execution_count": 26,
     "metadata": {},
     "output_type": "execute_result"
    }
   ],
   "source": [
    "sorted(course_clusters)[:10]"
   ]
  },
  {
   "cell_type": "code",
   "execution_count": 27,
   "metadata": {
    "collapsed": false
   },
   "outputs": [
    {
     "data": {
      "text/plain": [
       "['ACCOUNTING',\n",
       " 'ADVERTISING',\n",
       " 'AGENCY',\n",
       " 'ASSISTANT',\n",
       " 'AUTOMOTIVE',\n",
       " 'BANKING',\n",
       " 'BEAUTY',\n",
       " 'BPO',\n",
       " 'BROKERAGE',\n",
       " 'BUILDING']"
      ]
     },
     "execution_count": 27,
     "metadata": {},
     "output_type": "execute_result"
    }
   ],
   "source": [
    "sorted(industry_clusters)[:10]"
   ]
  },
  {
   "cell_type": "code",
   "execution_count": 28,
   "metadata": {
    "collapsed": false
   },
   "outputs": [
    {
     "data": {
      "text/plain": [
       "['BUSINESS',\n",
       " 'CALLCENTER',\n",
       " 'COMPUTER',\n",
       " 'CONSTRUCTION',\n",
       " 'DEPARTMENT',\n",
       " 'DESIGN',\n",
       " 'DEVELOPMENT',\n",
       " 'DISTRIBUTION',\n",
       " 'EDUCATION',\n",
       " 'ENGINE']"
      ]
     },
     "execution_count": 28,
     "metadata": {},
     "output_type": "execute_result"
    }
   ],
   "source": [
    "sorted(job_industry_clusters)[:10]"
   ]
  },
  {
   "cell_type": "code",
<<<<<<< HEAD
   "execution_count": 7,
=======
   "execution_count": 29,
>>>>>>> 61fd994dcf962b61caad03ff01027568b4f165ee
   "metadata": {
    "collapsed": false,
    "scrolled": true
   },
   "outputs": [
    {
     "name": "stdout",
     "output_type": "stream",
     "text": [
<<<<<<< HEAD
      "CPU times: user 192 ms, sys: 20 ms, total: 212 ms\n",
      "Wall time: 219 ms\n"
=======
      "CPU times: user 86.7 ms, sys: 0 ns, total: 86.7 ms\n",
      "Wall time: 86.2 ms\n"
>>>>>>> 61fd994dcf962b61caad03ff01027568b4f165ee
     ]
    }
   ],
   "source": [
    "%%time\n",
    "\n",
    "from analysis import *\n",
    "\n",
    "# note: pandas and sklearn modules should be installed\n",
    "# initializes a likelihood data frame based on row and column labels.\n",
    "# Performs a content-based filtering technique using features.\n",
    "# vectorizer can be 'tfidf' or 'count'\n",
    "\n",
    "CourseIndustry = likelihood_matrix(course_clusters, industry_clusters, vectorizer='tfidf', ngram_range=(3,4))"
   ]
  },
  {
   "cell_type": "code",
<<<<<<< HEAD
   "execution_count": 8,
=======
   "execution_count": 30,
>>>>>>> 61fd994dcf962b61caad03ff01027568b4f165ee
   "metadata": {
    "collapsed": false
   },
   "outputs": [
    {
     "data": {
      "text/html": [
       "<div style=\"max-height:1000px;max-width:1500px;overflow:auto;\">\n",
       "<table border=\"1\" class=\"dataframe\">\n",
       "  <thead>\n",
       "    <tr style=\"text-align: right;\">\n",
       "      <th></th>\n",
       "      <th>ENGINE</th>\n",
       "      <th>REPAIR</th>\n",
       "      <th>HARDWARE</th>\n",
       "      <th>PRODUCT</th>\n",
       "      <th>HOSPITALITY</th>\n",
       "      <th>LINE</th>\n",
       "      <th>CAFE</th>\n",
       "      <th>CUSTOMER</th>\n",
       "      <th>OFFICE</th>\n",
       "      <th>POWER</th>\n",
       "      <th>...</th>\n",
       "      <th>DEVELOPMENT</th>\n",
       "      <th>CITY</th>\n",
       "      <th>PLANT</th>\n",
       "      <th>PUBLISHING</th>\n",
       "      <th>SALES</th>\n",
       "      <th>FABRICATION</th>\n",
       "      <th>HEALTH</th>\n",
       "      <th>ASSISTANT</th>\n",
       "      <th>DISTRIBUTOR</th>\n",
       "      <th>BROKERAGE</th>\n",
       "    </tr>\n",
       "  </thead>\n",
       "  <tbody>\n",
       "    <tr>\n",
       "      <th>LINGUISTICS</th>\n",
<<<<<<< HEAD
       "      <td> 0</td>\n",
       "      <td> 0</td>\n",
       "      <td> 0</td>\n",
       "      <td> 0</td>\n",
       "      <td> 0</td>\n",
       "      <td> 0.111282</td>\n",
       "      <td> 0</td>\n",
       "      <td> 0</td>\n",
       "      <td> 0</td>\n",
       "      <td> 0</td>\n",
       "      <td>...</td>\n",
       "      <td> 0.000000</td>\n",
       "      <td> 0.000000</td>\n",
       "      <td> 0</td>\n",
       "      <td> 0.020568</td>\n",
       "      <td> 0</td>\n",
       "      <td> 0</td>\n",
       "      <td> 0</td>\n",
       "      <td> 0.045183</td>\n",
       "      <td> 0.042346</td>\n",
       "      <td> 0</td>\n",
       "    </tr>\n",
       "    <tr>\n",
       "      <th>STUDIES</th>\n",
       "      <td> 0</td>\n",
       "      <td> 0</td>\n",
       "      <td> 0</td>\n",
       "      <td> 0</td>\n",
       "      <td> 0</td>\n",
       "      <td> 0.000000</td>\n",
       "      <td> 0</td>\n",
       "      <td> 0</td>\n",
       "      <td> 0</td>\n",
       "      <td> 0</td>\n",
       "      <td>...</td>\n",
       "      <td> 0.000000</td>\n",
       "      <td> 0.000000</td>\n",
       "      <td> 0</td>\n",
       "      <td> 0.000000</td>\n",
       "      <td> 0</td>\n",
       "      <td> 0</td>\n",
       "      <td> 0</td>\n",
       "      <td> 0.000000</td>\n",
       "      <td> 0.000000</td>\n",
       "      <td> 0</td>\n",
       "    </tr>\n",
       "    <tr>\n",
       "      <th>HARDWARE</th>\n",
       "      <td> 0</td>\n",
       "      <td> 0</td>\n",
       "      <td> 1</td>\n",
       "      <td> 0</td>\n",
       "      <td> 0</td>\n",
       "      <td> 0.000000</td>\n",
       "      <td> 0</td>\n",
       "      <td> 0</td>\n",
       "      <td> 0</td>\n",
       "      <td> 0</td>\n",
       "      <td>...</td>\n",
       "      <td> 0.000000</td>\n",
       "      <td> 0.000000</td>\n",
       "      <td> 0</td>\n",
       "      <td> 0.000000</td>\n",
       "      <td> 0</td>\n",
       "      <td> 0</td>\n",
       "      <td> 0</td>\n",
       "      <td> 0.000000</td>\n",
       "      <td> 0.000000</td>\n",
       "      <td> 0</td>\n",
       "    </tr>\n",
       "    <tr>\n",
       "      <th>HOSPITALITY</th>\n",
       "      <td> 0</td>\n",
       "      <td> 0</td>\n",
       "      <td> 0</td>\n",
       "      <td> 0</td>\n",
       "      <td> 1</td>\n",
       "      <td> 0.000000</td>\n",
       "      <td> 0</td>\n",
       "      <td> 0</td>\n",
       "      <td> 0</td>\n",
       "      <td> 0</td>\n",
       "      <td>...</td>\n",
       "      <td> 0.000000</td>\n",
       "      <td> 0.108406</td>\n",
       "      <td> 0</td>\n",
       "      <td> 0.000000</td>\n",
       "      <td> 0</td>\n",
       "      <td> 0</td>\n",
       "      <td> 0</td>\n",
       "      <td> 0.000000</td>\n",
       "      <td> 0.000000</td>\n",
       "      <td> 0</td>\n",
       "    </tr>\n",
       "    <tr>\n",
       "      <th>ELEMENTARY</th>\n",
       "      <td> 0</td>\n",
       "      <td> 0</td>\n",
       "      <td> 0</td>\n",
       "      <td> 0</td>\n",
       "      <td> 0</td>\n",
       "      <td> 0.000000</td>\n",
       "      <td> 0</td>\n",
       "      <td> 0</td>\n",
       "      <td> 0</td>\n",
       "      <td> 0</td>\n",
       "      <td>...</td>\n",
       "      <td> 0.112116</td>\n",
       "      <td> 0.000000</td>\n",
       "      <td> 0</td>\n",
       "      <td> 0.000000</td>\n",
       "      <td> 0</td>\n",
       "      <td> 0</td>\n",
       "      <td> 0</td>\n",
       "      <td> 0.000000</td>\n",
       "      <td> 0.000000</td>\n",
       "      <td> 0</td>\n",
=======
       "      <td>0</td>\n",
       "      <td>0</td>\n",
       "      <td>0</td>\n",
       "      <td>0</td>\n",
       "      <td>0</td>\n",
       "      <td>0.000000</td>\n",
       "      <td>0.111031</td>\n",
       "      <td>0</td>\n",
       "      <td>0</td>\n",
       "      <td>0</td>\n",
       "      <td>...</td>\n",
       "      <td>0</td>\n",
       "      <td>0.023</td>\n",
       "      <td>0</td>\n",
       "      <td>0</td>\n",
       "      <td>0.020312</td>\n",
       "      <td>0.000000</td>\n",
       "      <td>0</td>\n",
       "      <td>0.045016</td>\n",
       "      <td>0.042213</td>\n",
       "      <td>0</td>\n",
       "    </tr>\n",
       "    <tr>\n",
       "      <th>HARDWARE</th>\n",
       "      <td>0</td>\n",
       "      <td>0</td>\n",
       "      <td>1</td>\n",
       "      <td>0</td>\n",
       "      <td>0</td>\n",
       "      <td>0.000000</td>\n",
       "      <td>0.000000</td>\n",
       "      <td>0</td>\n",
       "      <td>0</td>\n",
       "      <td>0</td>\n",
       "      <td>...</td>\n",
       "      <td>0</td>\n",
       "      <td>0.000</td>\n",
       "      <td>0</td>\n",
       "      <td>0</td>\n",
       "      <td>0.000000</td>\n",
       "      <td>0.000000</td>\n",
       "      <td>0</td>\n",
       "      <td>0.000000</td>\n",
       "      <td>0.000000</td>\n",
       "      <td>0</td>\n",
       "    </tr>\n",
       "    <tr>\n",
       "      <th>AGRICULTURAL</th>\n",
       "      <td>0</td>\n",
       "      <td>0</td>\n",
       "      <td>0</td>\n",
       "      <td>0</td>\n",
       "      <td>0</td>\n",
       "      <td>0.000000</td>\n",
       "      <td>0.000000</td>\n",
       "      <td>0</td>\n",
       "      <td>0</td>\n",
       "      <td>0</td>\n",
       "      <td>...</td>\n",
       "      <td>0</td>\n",
       "      <td>0.000</td>\n",
       "      <td>0</td>\n",
       "      <td>0</td>\n",
       "      <td>0.000000</td>\n",
       "      <td>0.052721</td>\n",
       "      <td>0</td>\n",
       "      <td>0.000000</td>\n",
       "      <td>0.000000</td>\n",
       "      <td>0</td>\n",
       "    </tr>\n",
       "    <tr>\n",
       "      <th>ELEMENTARY</th>\n",
       "      <td>0</td>\n",
       "      <td>0</td>\n",
       "      <td>0</td>\n",
       "      <td>0</td>\n",
       "      <td>0</td>\n",
       "      <td>0.034037</td>\n",
       "      <td>0.000000</td>\n",
       "      <td>0</td>\n",
       "      <td>0</td>\n",
       "      <td>0</td>\n",
       "      <td>...</td>\n",
       "      <td>0</td>\n",
       "      <td>0.000</td>\n",
       "      <td>0</td>\n",
       "      <td>0</td>\n",
       "      <td>0.000000</td>\n",
       "      <td>0.000000</td>\n",
       "      <td>0</td>\n",
       "      <td>0.000000</td>\n",
       "      <td>0.000000</td>\n",
       "      <td>0</td>\n",
       "    </tr>\n",
       "    <tr>\n",
       "      <th>NCII</th>\n",
       "      <td>0</td>\n",
       "      <td>0</td>\n",
       "      <td>0</td>\n",
       "      <td>0</td>\n",
       "      <td>0</td>\n",
       "      <td>0.000000</td>\n",
       "      <td>0.000000</td>\n",
       "      <td>0</td>\n",
       "      <td>0</td>\n",
       "      <td>0</td>\n",
       "      <td>...</td>\n",
       "      <td>0</td>\n",
       "      <td>0.000</td>\n",
       "      <td>0</td>\n",
       "      <td>0</td>\n",
       "      <td>0.000000</td>\n",
       "      <td>0.000000</td>\n",
       "      <td>0</td>\n",
       "      <td>0.000000</td>\n",
       "      <td>0.000000</td>\n",
       "      <td>0</td>\n",
>>>>>>> 61fd994dcf962b61caad03ff01027568b4f165ee
       "    </tr>\n",
       "  </tbody>\n",
       "</table>\n",
       "<p>5 rows × 146 columns</p>\n",
       "</div>"
      ],
      "text/plain": [
       "             ENGINE  REPAIR  HARDWARE  PRODUCT  HOSPITALITY      LINE  CAFE  \\\n",
       "LINGUISTICS       0       0         0        0            0  0.111282     0   \n",
       "STUDIES           0       0         0        0            0  0.000000     0   \n",
       "HARDWARE          0       0         1        0            0  0.000000     0   \n",
       "HOSPITALITY       0       0         0        0            1  0.000000     0   \n",
       "ELEMENTARY        0       0         0        0            0  0.000000     0   \n",
       "\n",
       "             CUSTOMER  OFFICE  POWER    ...      DEVELOPMENT      CITY  PLANT  \\\n",
       "LINGUISTICS         0       0      0    ...         0.000000  0.000000      0   \n",
       "STUDIES             0       0      0    ...         0.000000  0.000000      0   \n",
       "HARDWARE            0       0      0    ...         0.000000  0.000000      0   \n",
       "HOSPITALITY         0       0      0    ...         0.000000  0.108406      0   \n",
       "ELEMENTARY          0       0      0    ...         0.112116  0.000000      0   \n",
       "\n",
       "             PUBLISHING  SALES  FABRICATION  HEALTH  ASSISTANT  DISTRIBUTOR  \\\n",
       "LINGUISTICS    0.020568      0            0       0   0.045183     0.042346   \n",
       "STUDIES        0.000000      0            0       0   0.000000     0.000000   \n",
       "HARDWARE       0.000000      0            0       0   0.000000     0.000000   \n",
       "HOSPITALITY    0.000000      0            0       0   0.000000     0.000000   \n",
       "ELEMENTARY     0.000000      0            0       0   0.000000     0.000000   \n",
       "\n",
       "             BROKERAGE  \n",
       "LINGUISTICS          0  \n",
       "STUDIES              0  \n",
       "HARDWARE             0  \n",
       "HOSPITALITY          0  \n",
       "ELEMENTARY           0  \n",
       "\n",
       "[5 rows x 146 columns]"
      ]
     },
<<<<<<< HEAD
     "execution_count": 8,
=======
     "execution_count": 30,
>>>>>>> 61fd994dcf962b61caad03ff01027568b4f165ee
     "metadata": {},
     "output_type": "execute_result"
    }
   ],
   "source": [
    "CourseIndustry.dataframe.head()"
   ]
  },
  {
   "cell_type": "code",
<<<<<<< HEAD
   "execution_count": 9,
=======
   "execution_count": 31,
>>>>>>> 61fd994dcf962b61caad03ff01027568b4f165ee
   "metadata": {
    "collapsed": false,
    "scrolled": true
   },
   "outputs": [
    {
     "name": "stdout",
     "output_type": "stream",
     "text": [
<<<<<<< HEAD
      "CPU times: user 8 ms, sys: 0 ns, total: 8 ms\n",
      "Wall time: 8.79 ms\n"
=======
      "CPU times: user 123 ms, sys: 3.33 ms, total: 127 ms\n",
      "Wall time: 124 ms\n"
>>>>>>> 61fd994dcf962b61caad03ff01027568b4f165ee
     ]
    }
   ],
   "source": [
    "%%time\n",
    "\n",
    "# note: pandas and sklearn modules should be installed\n",
    "# derives the change in likelihood if an entry\n",
    "\n",
    "# computes delta likelihood using the following steps: (non-verbatim)\n",
    "# clabels = df.column_labels\n",
    "# rlabels = df.row_labels\n",
    "# vr = [cos_similarity(ur, label) for label in rlabels]\n",
    "# vc = [cos_similarity(vr, label) for label in clabels]\n",
    "# dL = vr * vc^T\n",
    "\n",
    "d1 = CourseIndustry.delta('CALLCENTE', 'BUSINESS')\n",
    "d2 = CourseIndustry.delta('MARKETING', 'RESEARCH & DEVELOPMENT')\n",
    "d3 = CourseIndustry.delta('AGRICULTURE', 'FINANCE')"
   ]
  },
  {
   "cell_type": "code",
<<<<<<< HEAD
   "execution_count": 10,
=======
   "execution_count": 32,
>>>>>>> 61fd994dcf962b61caad03ff01027568b4f165ee
   "metadata": {
    "collapsed": false
   },
   "outputs": [
    {
     "name": "stdout",
     "output_type": "stream",
     "text": [
<<<<<<< HEAD
      "CPU times: user 24 ms, sys: 0 ns, total: 24 ms\n",
      "Wall time: 20.9 ms\n"
=======
      "CPU times: user 287 ms, sys: 3.33 ms, total: 290 ms\n",
      "Wall time: 290 ms\n"
>>>>>>> 61fd994dcf962b61caad03ff01027568b4f165ee
     ]
    }
   ],
   "source": [
    "%%time\n",
    "\n",
    "# dynamic update of likelihood matrix\n",
    "# just accumulate small likelihoods\n",
    "# accounts for relative likelihood and not absolute percentage\n",
    "\n",
    "users = [\n",
    "    ('COMPUTER SCIENCE', 'INFORMATION TECHNOLOGY'),\n",
    "    ('ACCOUNTING', 'BUSINESS'),\n",
    "    ('BUSINESS ADMINSTRATION', 'FINANCE'),\n",
    "    ('MARKETING', 'FINANCE'),\n",
    "    ('MATHEMATICS', 'FINANCE'),\n",
    "    ('SOCIAL SCIENCE', 'CONSULATION'),\n",
    "    ('LITERATURE', 'WRITING'),\n",
    "    ('MANAGEMENT', 'BANKING'),\n",
    "    ('SCIENCES', 'RESEARCH')\n",
    "]\n",
    "\n",
    "for course, industry in users:\n",
    "    CourseIndustry.add_match(course, industry)"
   ]
  },
  {
   "cell_type": "code",
<<<<<<< HEAD
   "execution_count": 11,
=======
   "execution_count": 33,
>>>>>>> 61fd994dcf962b61caad03ff01027568b4f165ee
   "metadata": {
    "collapsed": false
   },
   "outputs": [
    {
     "name": "stdout",
     "output_type": "stream",
     "text": [
<<<<<<< HEAD
      "CPU times: user 4 ms, sys: 0 ns, total: 4 ms\n",
      "Wall time: 806 µs\n"
=======
      "CPU times: user 3.33 ms, sys: 0 ns, total: 3.33 ms\n",
      "Wall time: 1.28 ms\n"
>>>>>>> 61fd994dcf962b61caad03ff01027568b4f165ee
     ]
    },
    {
     "data": {
      "text/plain": [
       "BUSINESS        1.000000\n",
       "ACCOUNTING      1.000000\n",
       "AGRIBUSINESS    0.751409\n",
       "ACCOUNTANCY     0.592792\n",
       "WRITING         0.164709\n",
       "DRAFTING        0.140500\n",
       "MARKETING       0.128460\n",
       "NURSING         0.111017\n",
       "ADVERTISING     0.077272\n",
       "MARINE          0.072866\n",
       "Name: BUSINESS, dtype: float64"
      ]
     },
<<<<<<< HEAD
     "execution_count": 11,
=======
     "execution_count": 33,
>>>>>>> 61fd994dcf962b61caad03ff01027568b4f165ee
     "metadata": {},
     "output_type": "execute_result"
    }
   ],
   "source": [
    "# get specific likelihood coefficient of a pair of clusters\n",
    "# e.g. likelihood of courses from the BUSINESS industry\n",
    "\n",
    "# note: 1.00 does not mean 100%\n",
    "# likelihood metric is relative\n",
    "# the more data, the more accurate the prediction\n",
    "\n",
    "%time CourseIndustry.dataframe.BUSINESS.nlargest(10)"
   ]
  },
  {
   "cell_type": "code",
<<<<<<< HEAD
   "execution_count": 12,
=======
   "execution_count": 34,
>>>>>>> 61fd994dcf962b61caad03ff01027568b4f165ee
   "metadata": {
    "collapsed": false
   },
   "outputs": [
    {
     "name": "stdout",
     "output_type": "stream",
     "text": [
      "CPU times: user 0 ns, sys: 0 ns, total: 0 ns\n",
<<<<<<< HEAD
      "Wall time: 891 µs\n"
=======
      "Wall time: 1.51 ms\n"
>>>>>>> 61fd994dcf962b61caad03ff01027568b4f165ee
     ]
    },
    {
     "data": {
      "text/plain": [
       "RESEARCH       0.903873\n",
       "INFORMATION    0.608181\n",
       "TECHNOLOGY     0.446791\n",
       "CONSULTING     0.401750\n",
       "CONSULTANCY    0.360313\n",
       "EDUCATION      0.247390\n",
       "Name: SCIENCE, dtype: float64"
      ]
     },
<<<<<<< HEAD
     "execution_count": 12,
=======
     "execution_count": 34,
>>>>>>> 61fd994dcf962b61caad03ff01027568b4f165ee
     "metadata": {},
     "output_type": "execute_result"
    }
   ],
   "source": [
    "%%time\n",
    "\n",
    "# transpose data frame for rows\n",
    "CourseIndustry.dataframe.T.SCIENCE.nlargest(6)"
   ]
  },
  {
   "cell_type": "code",
<<<<<<< HEAD
   "execution_count": 13,
=======
   "execution_count": 35,
>>>>>>> 61fd994dcf962b61caad03ff01027568b4f165ee
   "metadata": {
    "collapsed": false
   },
   "outputs": [
    {
     "name": "stdout",
     "output_type": "stream",
     "text": [
<<<<<<< HEAD
      "CPU times: user 4 ms, sys: 0 ns, total: 4 ms\n",
      "Wall time: 1.82 ms\n"
=======
      "CPU times: user 20 ms, sys: 0 ns, total: 20 ms\n",
      "Wall time: 19.2 ms\n"
>>>>>>> 61fd994dcf962b61caad03ff01027568b4f165ee
     ]
    }
   ],
   "source": [
    "%%time\n",
    "\n",
    "# add count from a specific matching pair\n",
    "# note: this is synonymous to CourseIndustry.dataframe += CourseIndustry.delta('PHYSICS', 'REPAIR SUPPLY')\n",
    "\n",
    "CourseIndustry.add_match('PHYSICS', 'RESEARCH')"
   ]
  },
  {
   "cell_type": "code",
<<<<<<< HEAD
   "execution_count": 14,
=======
   "execution_count": 36,
>>>>>>> 61fd994dcf962b61caad03ff01027568b4f165ee
   "metadata": {
    "collapsed": false
   },
   "outputs": [
    {
     "name": "stdout",
     "output_type": "stream",
     "text": [
<<<<<<< HEAD
      "CPU times: user 0 ns, sys: 0 ns, total: 0 ns\n",
      "Wall time: 449 µs\n"
=======
      "CPU times: user 3.33 ms, sys: 0 ns, total: 3.33 ms\n",
      "Wall time: 688 µs\n"
>>>>>>> 61fd994dcf962b61caad03ff01027568b4f165ee
     ]
    }
   ],
   "source": [
    "%%time\n",
    "\n",
    "# returns a vector of recommend likelihood of a course from a specific industry\n",
    "# since courses are rows, we find column matches\n",
    "# we can also make the method output percentages\n",
    "\n",
    "matches = CourseIndustry.find_column_matches('PHYSICS', with_labels = True, percentage = True)"
   ]
  },
  {
   "cell_type": "code",
<<<<<<< HEAD
   "execution_count": 15,
=======
   "execution_count": 37,
>>>>>>> 61fd994dcf962b61caad03ff01027568b4f165ee
   "metadata": {
    "collapsed": false
   },
   "outputs": [
    {
     "data": {
      "text/plain": [
       "RESEARCH       55.490816\n",
       "MEDICAL         5.642393\n",
       "ELECTRICAL      5.304976\n",
       "ELECTRONICS     4.927573\n",
       "FINANCE         4.836570\n",
       "dtype: float64"
      ]
     },
<<<<<<< HEAD
     "execution_count": 15,
=======
     "execution_count": 37,
>>>>>>> 61fd994dcf962b61caad03ff01027568b4f165ee
     "metadata": {},
     "output_type": "execute_result"
    }
   ],
   "source": [
    "# rank recommendations with the highest percentage\n",
    "matches.nlargest(5)"
   ]
  },
  {
   "cell_type": "code",
<<<<<<< HEAD
   "execution_count": 16,
=======
   "execution_count": 38,
>>>>>>> 61fd994dcf962b61caad03ff01027568b4f165ee
   "metadata": {
    "collapsed": false
   },
   "outputs": [
    {
     "name": "stdout",
     "output_type": "stream",
     "text": [
<<<<<<< HEAD
      "CPU times: user 0 ns, sys: 0 ns, total: 0 ns\n",
      "Wall time: 2.14 ms\n"
=======
      "CPU times: user 30 ms, sys: 0 ns, total: 30 ms\n",
      "Wall time: 27.9 ms\n"
>>>>>>> 61fd994dcf962b61caad03ff01027568b4f165ee
     ]
    },
    {
     "data": {
      "text/plain": [
<<<<<<< HEAD
       "56.11440517434135"
      ]
     },
     "execution_count": 16,
=======
       "55.353636624354294"
      ]
     },
     "execution_count": 38,
>>>>>>> 61fd994dcf962b61caad03ff01027568b4f165ee
     "metadata": {},
     "output_type": "execute_result"
    }
   ],
   "source": [
    "%%time\n",
    "\n",
    "# we can also get the recommendation score of a specific pair\n",
    "# this is equivalent to SV1^T * LM * SV2^T\n",
    "# where SV is similarity_vector, LM is likelihood matrix\n",
    "\n",
    "CourseIndustry.recommendation_score('PHYSICS', 'SCIENTIFIC RESEARCH')"
   ]
  },
  {
   "cell_type": "code",
<<<<<<< HEAD
   "execution_count": 17,
=======
   "execution_count": 39,
>>>>>>> 61fd994dcf962b61caad03ff01027568b4f165ee
   "metadata": {
    "collapsed": false
   },
   "outputs": [
    {
     "name": "stdout",
     "output_type": "stream",
     "text": [
      "CPU times: user 20 ms, sys: 0 ns, total: 20 ms\n",
      "Wall time: 20.6 ms\n"
     ]
    }
   ],
   "source": [
    "%%time\n",
    "\n",
    "# You can also get the dot product of data frames\n",
    "# to get bridged likelihood\n",
    "\n",
    "IndustryJob = likelihood_matrix(industry_clusters, job_industry_clusters, vectorizer='tfidf', ngram_range=(3,4))\n",
    "CourseJob = CourseIndustry * IndustryJob"
   ]
  },
  {
   "cell_type": "code",
<<<<<<< HEAD
   "execution_count": 18,
=======
   "execution_count": 40,
>>>>>>> 61fd994dcf962b61caad03ff01027568b4f165ee
   "metadata": {
    "collapsed": false
   },
   "outputs": [
    {
     "data": {
      "text/plain": [
<<<<<<< HEAD
       "0.29094734615360518"
      ]
     },
     "execution_count": 18,
=======
       "0.28752848943447895"
      ]
     },
     "execution_count": 40,
>>>>>>> 61fd994dcf962b61caad03ff01027568b4f165ee
     "metadata": {},
     "output_type": "execute_result"
    }
   ],
   "source": [
    "CourseJob.recommendation_score('PHYSICS', 'MANAGEMENT')"
   ]
  },
  {
   "cell_type": "code",
<<<<<<< HEAD
   "execution_count": 19,
=======
   "execution_count": 41,
>>>>>>> 61fd994dcf962b61caad03ff01027568b4f165ee
   "metadata": {
    "collapsed": false
   },
   "outputs": [
    {
     "data": {
      "text/plain": [
       "2.0380836694137852"
      ]
     },
<<<<<<< HEAD
     "execution_count": 19,
=======
     "execution_count": 41,
>>>>>>> 61fd994dcf962b61caad03ff01027568b4f165ee
     "metadata": {},
     "output_type": "execute_result"
    }
   ],
   "source": [
    "CourseJob.recommendation_score('COMPUTER SCIENCE', 'ARCHITECTURE')"
   ]
  },
  {
   "cell_type": "code",
<<<<<<< HEAD
   "execution_count": 20,
=======
   "execution_count": 42,
>>>>>>> 61fd994dcf962b61caad03ff01027568b4f165ee
   "metadata": {
    "collapsed": false
   },
   "outputs": [
    {
     "data": {
      "text/plain": [
<<<<<<< HEAD
       "37.74019144084599"
      ]
     },
     "execution_count": 20,
=======
       "37.428856177544361"
      ]
     },
     "execution_count": 42,
>>>>>>> 61fd994dcf962b61caad03ff01027568b4f165ee
     "metadata": {},
     "output_type": "execute_result"
    }
   ],
   "source": [
    "CourseJob.recommendation_score('COMPUTER SCIENCE', 'TECHNOLOGY')"
   ]
  },
  {
   "cell_type": "code",
<<<<<<< HEAD
   "execution_count": 21,
=======
   "execution_count": 43,
>>>>>>> 61fd994dcf962b61caad03ff01027568b4f165ee
   "metadata": {
    "collapsed": true
   },
   "outputs": [],
   "source": [
    "# after adding a match to course and a job, recommendation score should go up\n",
    "CourseJob.add_match('COMPUTER SCIENCE', 'TECHNOLOGY')\n",
    "CourseJob.add_match('PROGRAMMING', 'COMPUTER')"
   ]
  },
  {
   "cell_type": "code",
<<<<<<< HEAD
   "execution_count": 22,
=======
   "execution_count": 44,
>>>>>>> 61fd994dcf962b61caad03ff01027568b4f165ee
   "metadata": {
    "collapsed": false
   },
   "outputs": [
    {
     "data": {
      "text/plain": [
<<<<<<< HEAD
       "68.850745229040243"
      ]
     },
     "execution_count": 22,
=======
       "69.022835016757483"
      ]
     },
     "execution_count": 44,
>>>>>>> 61fd994dcf962b61caad03ff01027568b4f165ee
     "metadata": {},
     "output_type": "execute_result"
    }
   ],
   "source": [
    "CourseJob.recommendation_score('PROGRAMMING', 'COMPUTER')"
   ]
  },
  {
   "cell_type": "code",
   "execution_count": null,
   "metadata": {
    "collapsed": true
   },
   "outputs": [],
   "source": []
  }
 ],
 "metadata": {
  "kernelspec": {
   "display_name": "Python 2",
   "language": "python",
   "name": "python2"
  },
  "language_info": {
   "codemirror_mode": {
    "name": "ipython",
    "version": 2
   },
   "file_extension": ".py",
   "mimetype": "text/x-python",
   "name": "python",
   "nbconvert_exporter": "python",
   "pygments_lexer": "ipython2",
   "version": "2.7.6"
  }
 },
 "nbformat": 4,
 "nbformat_minor": 0
}
