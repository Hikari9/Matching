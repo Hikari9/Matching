{
 "cells": [
  {
   "cell_type": "code",
   "execution_count": 1,
   "metadata": {
    "collapsed": false,
    "scrolled": false
   },
   "outputs": [
    {
     "name": "stdout",
     "output_type": "stream",
     "text": [
      "CPU times: user 30.6 ms, sys: 3.41 ms, total: 34 ms\n",
      "Wall time: 33.3 ms\n"
     ]
    }
   ],
   "source": [
    "%%time\n",
    "from main import *\n",
    "\n",
    "raw_courses = read('data/courses.txt')\n",
    "raw_industries = read('data/industries.txt')\n",
    "raw_job_industries = read('data/job_industries.txt')"
   ]
  },
  {
   "cell_type": "code",
   "execution_count": 2,
   "metadata": {
    "collapsed": false
   },
   "outputs": [
    {
     "name": "stdout",
     "output_type": "stream",
     "text": [
      "CPU times: user 12.6 s, sys: 94.2 ms, total: 12.7 s\n",
      "Wall time: 12.7 s\n"
     ]
    }
   ],
   "source": [
    "%%time\n",
    "# note: enchant module and library should be installed\n",
    "from clean import clean\n",
    "\n",
    "clean_courses = clean(raw_courses, 'course', 'data/course_dictionary.txt')\n",
    "clean_industries = clean(raw_industries, 'industry', 'data/industry_dictionary.txt')\n",
    "clean_job_industries = clean(raw_job_industries, 'industry', 'data/industry_dictionary.txt')"
   ]
  },
  {
   "cell_type": "code",
   "execution_count": 3,
   "metadata": {
    "collapsed": false,
    "scrolled": false
   },
   "outputs": [
    {
     "name": "stdout",
     "output_type": "stream",
     "text": [
      "CPU times: user 73.8 ms, sys: 93 µs, total: 73.9 ms\n",
      "Wall time: 61 ms\n"
     ]
    }
   ],
   "source": [
    "%%time\n",
    "# note: stemming module should be installed\n",
    "from clustering import stem_cluster\n",
    " \n",
    "course_clusters = stem_cluster(clean_courses)\n",
    "industry_clusters = stem_cluster(clean_industries)\n",
    "job_industry_clusters = stem_cluster(clean_job_industries, mode=5)"
   ]
  },
  {
   "cell_type": "code",
   "execution_count": 4,
   "metadata": {
    "collapsed": false,
    "scrolled": true
   },
   "outputs": [
    {
     "data": {
      "text/plain": [
       "['ACCOUNTING',\n",
       " 'ADMINISTRATION',\n",
       " 'ADVERTISING',\n",
       " 'AGRIBUSINESS',\n",
       " 'AGRICULTURE',\n",
       " 'ANIMATION',\n",
       " 'APPLIED',\n",
       " 'ARCHITECTURE',\n",
       " 'ART',\n",
       " 'ASSOCIATES']"
      ]
     },
     "execution_count": 4,
     "metadata": {},
     "output_type": "execute_result"
    }
   ],
   "source": [
    "sorted(course_clusters)[:10]"
   ]
  },
  {
   "cell_type": "code",
   "execution_count": 5,
   "metadata": {
    "collapsed": false
   },
   "outputs": [
    {
     "data": {
      "text/plain": [
       "['ACCOUNTING',\n",
       " 'ADVERTISING',\n",
       " 'AGENCY',\n",
       " 'ASSISTANT',\n",
       " 'AUTOMOTIVE',\n",
       " 'BANKING',\n",
       " 'BEAUTY',\n",
       " 'BPO',\n",
       " 'BROKERAGE',\n",
       " 'BUILDING']"
      ]
     },
     "execution_count": 5,
     "metadata": {},
     "output_type": "execute_result"
    }
   ],
   "source": [
    "sorted(industry_clusters)[:10]"
   ]
  },
  {
   "cell_type": "code",
   "execution_count": 6,
   "metadata": {
    "collapsed": false
   },
   "outputs": [
    {
     "data": {
      "text/plain": [
       "['BUSINESS',\n",
       " 'CALLCENTER',\n",
       " 'COMPUTER',\n",
       " 'CONSTRUCTION',\n",
       " 'DEPARTMENT',\n",
       " 'DESIGN',\n",
       " 'DEVELOPMENT',\n",
       " 'DISTRIBUTION',\n",
       " 'EDUCATION',\n",
       " 'ENGINE']"
      ]
     },
     "execution_count": 6,
     "metadata": {},
     "output_type": "execute_result"
    }
   ],
   "source": [
    "sorted(job_industry_clusters)[:10]"
   ]
  },
  {
   "cell_type": "code",
   "execution_count": 7,
   "metadata": {
    "collapsed": false,
    "scrolled": true
   },
   "outputs": [
    {
     "name": "stdout",
     "output_type": "stream",
     "text": [
      "CPU times: user 335 ms, sys: 36.2 ms, total: 371 ms\n",
      "Wall time: 379 ms\n"
     ]
    }
   ],
   "source": [
    "%%time\n",
    "# note: pandas and sklearn modules should be installed\n",
    "# initializes a likelihood data frame based on row and column labels.\n",
    "# Performs a content-based filtering technique using features.\n",
    "# vectorizer can be 'tfidf' or 'count'\n",
    "from likelihood import likelihood_matrix\n",
    "\n",
    "CourseIndustry = likelihood_matrix(course_clusters, industry_clusters, vectorizer='tfidf', ngram_range=(3,4))\n",
    "CourseIndustry.head()"
   ]
  },
  {
   "cell_type": "code",
   "execution_count": 8,
   "metadata": {
    "collapsed": false,
    "scrolled": true
   },
   "outputs": [
    {
     "name": "stdout",
     "output_type": "stream",
     "text": [
      "CPU times: user 10.4 ms, sys: 4.06 ms, total: 14.5 ms\n",
      "Wall time: 14.2 ms\n"
     ]
    }
   ],
   "source": [
    "%%time\n",
    "\n",
    "# note: pandas and sklearn modules should be installed\n",
    "# derives the change in likelihood if an entry\n",
    "\n",
    "from likelihood import delta_likelihood\n",
    "\n",
    "# computes delta likelihood using the following steps: (non-verbatim)\n",
    "# clabels = df.column_labels\n",
    "# rlabels = df.row_labels\n",
    "# vr = [cos_similarity(ur, label) for label in rlabels]\n",
    "# vc = [cos_similarity(vr, label) for label in clabels]\n",
    "# dL = vr * vc^T\n",
    "\n",
    "d1 = delta_likelihood(CourseIndustry, 'CALLCENTE', 'BUSINESS')\n",
    "d2 = delta_likelihood(CourseIndustry, 'MARKETING', 'RESEARCH & DEVELOPMENT')\n",
    "d3 = delta_likelihood(CourseIndustry, 'AGRICULTURE', 'FINANCE')"
   ]
  },
  {
   "cell_type": "code",
   "execution_count": 9,
   "metadata": {
    "collapsed": false
   },
   "outputs": [
    {
     "name": "stdout",
     "output_type": "stream",
     "text": [
      "CPU times: user 37 ms, sys: 4.04 ms, total: 41 ms\n",
      "Wall time: 39 ms\n"
     ]
    }
   ],
   "source": [
    "%%time\n",
    "\n",
    "# dynamic update of likelihood matrix\n",
    "# just accumulate small likelihoods\n",
    "# accounts for relative likelihood and not absolute percentage\n",
    "\n",
    "users = [\n",
    "    ('COMPUTER SCIENCE', 'INFORMATION TECHNOLOGY'),\n",
    "    ('ACCOUNTING', 'BUSINESS'),\n",
    "    ('BUSINESS ADMINSTRATION', 'FINANCE'),\n",
    "    ('MARKETING', 'FINANCE'),\n",
    "    ('MATHEMATICS', 'FINANCE'),\n",
    "    ('SOCIAL SCIENCE', 'CONSULATION'),\n",
    "    ('LITERATURE', 'WRITING'),\n",
    "    ('MANAGEMENT', 'BANKING'),\n",
    "    ('SCIENCES', 'RESEARCH')\n",
    "]\n",
    "\n",
    "for course, industry in users:\n",
    "    CourseIndustry += delta_likelihood(CourseIndustry, course, industry)"
   ]
  },
  {
   "cell_type": "code",
   "execution_count": 10,
   "metadata": {
    "collapsed": false
   },
   "outputs": [
    {
     "name": "stdout",
     "output_type": "stream",
     "text": [
      "CPU times: user 984 µs, sys: 0 ns, total: 984 µs\n",
      "Wall time: 829 µs\n"
     ]
    },
    {
     "data": {
      "text/plain": [
       "BUSINESS        1.000000\n",
       "ACCOUNTING      1.000000\n",
       "AGRIBUSINESS    0.747282\n",
       "WRITING         0.159128\n",
       "DRAFTING        0.135685\n",
       "MARKETING       0.124098\n",
       "NURSING         0.117439\n",
       "ADVERTISING     0.082212\n",
       "MARINE          0.074211\n",
       "MEDICINE        0.060449\n",
       "Name: BUSINESS, dtype: float64"
      ]
     },
     "execution_count": 10,
     "metadata": {},
     "output_type": "execute_result"
    }
   ],
   "source": [
    "# get specific likelihood coefficient of a pair of clusters\n",
    "# e.g. likelihood of courses from the BUSINESS industry\n",
    "\n",
    "# note: 1.00 does not mean 100%\n",
    "# likelihood metric is relative\n",
    "# the more data, the more accurate the prediction\n",
    "\n",
    "%time CourseIndustry.BUSINESS.nlargest(10)"
   ]
  },
  {
   "cell_type": "code",
   "execution_count": 11,
   "metadata": {
    "collapsed": false
   },
   "outputs": [
    {
     "name": "stdout",
     "output_type": "stream",
     "text": [
      "CPU times: user 1.73 ms, sys: 0 ns, total: 1.73 ms\n",
      "Wall time: 1.51 ms\n"
     ]
    },
    {
     "data": {
      "text/plain": [
       "RESEARCH        0.945460\n",
       "INFORMATION     0.627905\n",
       "TECHNOLOGY      0.464770\n",
       "CONSULTING      0.426784\n",
       "EDUCATION       0.243047\n",
       "CONSTRUCTION    0.239345\n",
       "Name: SCIENCE, dtype: float64"
      ]
     },
     "execution_count": 11,
     "metadata": {},
     "output_type": "execute_result"
    }
   ],
   "source": [
    "%%time\n",
    "\n",
    "# transpose data frame for rows\n",
    "CourseIndustry.transpose().SCIENCE.nlargest(6)"
   ]
  },
  {
   "cell_type": "code",
   "execution_count": 21,
   "metadata": {
    "collapsed": false
   },
   "outputs": [
    {
     "name": "stdout",
     "output_type": "stream",
     "text": [
      "CPU times: user 1.13 ms, sys: 17 µs, total: 1.15 ms\n",
      "Wall time: 1.07 ms\n"
     ]
    },
    {
     "data": {
      "text/plain": [
       "TECHNOLOGY           21.797430\n",
       "COMPUTER             10.923265\n",
       "SCIENCE              10.130794\n",
       "CRIMINOLOGY           8.025756\n",
       "TECHNICAL             7.731569\n",
       "BIOLOGY               7.501088\n",
       "TECHNICIAN            6.793365\n",
       "THEOLOGY              6.596293\n",
       "SOCIOLOGY             6.144819\n",
       "PSYCHOLOGY            5.457806\n",
       "MECHANIC              1.430608\n",
       "ARCHITECTURE          1.116272\n",
       "INTERDISCIPLINARY     0.930924\n",
       "FINANCE               0.925809\n",
       "COMMERCE              0.709077\n",
       "MAINTENANCE           0.652396\n",
       "COMMERCIAL            0.611325\n",
       "THEATER               0.597610\n",
       "COMMUNICATION         0.568613\n",
       "CALLCENTER            0.471013\n",
       "Name: TECHNOLOGY, dtype: float64"
      ]
     },
     "execution_count": 21,
     "metadata": {},
     "output_type": "execute_result"
    }
   ],
   "source": [
    "%%time\n",
    "# to get probability distribution of a column/row,\n",
    "# just divide row by sum of its elements\n",
    "\n",
    "CourseIndustry.TECHNOLOGY.multiply(100.0 /sum(CourseIndustry.TECHNOLOGY)).nlargest(20)"
   ]
  },
  {
   "cell_type": "code",
   "execution_count": 30,
   "metadata": {
    "collapsed": false
   },
   "outputs": [
    {
     "name": "stdout",
     "output_type": "stream",
     "text": [
      "CPU times: user 18.2 ms, sys: 0 ns, total: 18.2 ms\n",
      "Wall time: 16.9 ms\n"
     ]
    }
   ],
   "source": [
    "# You can also get the dot product of data frames\n",
    "# to get bridged likelihood\n",
    "\n",
    "IndustryJob = likelihood_matrix(industry_clusters, job_industry_clusters, vectorizer='tfidf', ngram_range=(3,4))"
   ]
  },
  {
   "cell_type": "code",
   "execution_count": 33,
   "metadata": {
    "collapsed": false
   },
   "outputs": [
    {
     "data": {
      "text/plain": [
       "SECRETARIAL          0.258991\n",
       "CALLCENTER           0.017504\n",
       "ENVIRONMENTAL        0.015395\n",
       "ELEMENTARY           0.010261\n",
       "MANAGEMENT           0.010064\n",
       "DEVELOPMENT          0.009229\n",
       "INTERNATIONAL        0.007866\n",
       "MAINTENANCE          0.006626\n",
       "INTERDISCIPLINARY    0.006152\n",
       "TRAINING             0.004875\n",
       "ADVERTISING          0.004162\n",
       "TRANSPORTATION       0.003814\n",
       "THEATER              0.003257\n",
       "ENTREPRENEURSHIP     0.003023\n",
       "COMPUTER             0.002832\n",
       "LITERATURE           0.002542\n",
       "ANIMATION            0.000000\n",
       "ENGINEER             0.000000\n",
       "FINANCE              0.000000\n",
       "ELECTRONIC           0.000000\n",
       "Name: RETAIL, dtype: float64"
      ]
     },
     "execution_count": 33,
     "metadata": {},
     "output_type": "execute_result"
    }
   ],
   "source": [
    "CourseIndustry.dot(IndustryJob).RETAIL.nlargest(20)"
   ]
  },
  {
   "cell_type": "code",
   "execution_count": null,
   "metadata": {
    "collapsed": true
   },
   "outputs": [],
   "source": []
  }
 ],
 "metadata": {
  "kernelspec": {
   "display_name": "Python 2",
   "language": "python",
   "name": "python2"
  },
  "language_info": {
   "codemirror_mode": {
    "name": "ipython",
    "version": 2
   },
   "file_extension": ".py",
   "mimetype": "text/x-python",
   "name": "python",
   "nbconvert_exporter": "python",
   "pygments_lexer": "ipython2",
   "version": "2.7.9"
  }
 },
 "nbformat": 4,
 "nbformat_minor": 0
}
