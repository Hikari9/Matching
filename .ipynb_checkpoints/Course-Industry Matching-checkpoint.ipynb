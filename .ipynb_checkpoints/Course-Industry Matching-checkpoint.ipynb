{
 "cells": [
  {
   "cell_type": "code",
   "execution_count": 1,
   "metadata": {
    "collapsed": false,
    "scrolled": false
   },
   "outputs": [
    {
     "name": "stdout",
     "output_type": "stream",
     "text": [
      "CPU times: user 12 ms, sys: 4 ms, total: 16 ms\n",
      "Wall time: 11 ms\n"
     ]
    }
   ],
   "source": [
    "%%time\n",
    "from algoutils import *\n",
    "\n",
    "raw_courses = read('data/courses.txt')\n",
    "raw_industries = read('data/industries.txt')\n",
    "raw_job_industries = read('data/job_industries.txt')"
   ]
  },
  {
   "cell_type": "code",
   "execution_count": 2,
   "metadata": {
    "collapsed": false
   },
   "outputs": [
    {
     "name": "stdout",
     "output_type": "stream",
     "text": [
      "CPU times: user 13.1 s, sys: 96 ms, total: 13.2 s\n",
      "Wall time: 13.1 s\n"
     ]
    }
   ],
   "source": [
    "%%time\n",
    "# note: enchant module and library should be installed\n",
    "from cleaning import clean\n",
    "\n",
    "clean_courses = clean(raw_courses, style='course')\n",
    "clean_industries = clean(raw_industries, style='industry')\n",
    "clean_job_industries = clean(raw_job_industries, style='job title')"
   ]
  },
  {
   "cell_type": "code",
   "execution_count": 48,
   "metadata": {
    "collapsed": false,
    "scrolled": false
   },
   "outputs": [
    {
     "name": "stdout",
     "output_type": "stream",
     "text": [
      "CPU times: user 60 ms, sys: 24 ms, total: 84 ms\n",
      "Wall time: 68.4 ms\n"
     ]
    }
   ],
   "source": [
    "%%time\n",
    "# note: nltk module and nltk.wordnet corpus should be installed\n",
    "from clustering import stem_cluster\n",
    " \n",
    "course_clusters = stem_cluster(clean_courses)\n",
    "industry_clusters = stem_cluster(clean_industries)\n",
    "job_industry_clusters = stem_cluster(clean_job_industries, mode=5)"
   ]
  },
  {
   "cell_type": "code",
   "execution_count": 49,
   "metadata": {
    "collapsed": false,
    "scrolled": true
   },
   "outputs": [
    {
     "data": {
      "text/plain": [
       "['ACCOUNTANCY',\n",
       " 'ACCOUNTING',\n",
       " 'ADMINISTRATION',\n",
       " 'ADVERTISING',\n",
       " 'AGRIBUSINESS',\n",
       " 'AGRICULTURAL',\n",
       " 'AGRICULTURE',\n",
       " 'ANIMATION',\n",
       " 'APPLIED',\n",
       " 'ARCHITECTURAL']"
      ]
     },
     "execution_count": 49,
     "metadata": {},
     "output_type": "execute_result"
    }
   ],
   "source": [
    "sorted(course_clusters)[:10]"
   ]
  },
  {
   "cell_type": "code",
   "execution_count": 50,
   "metadata": {
    "collapsed": false
   },
   "outputs": [
    {
     "data": {
      "text/plain": [
       "['ACCOUNTING',\n",
       " 'ADVERTISING',\n",
       " 'AGENCY',\n",
       " 'ASSISTANT',\n",
       " 'AUTOMOTIVE',\n",
       " 'BANKING',\n",
       " 'BEAUTY',\n",
       " 'BPO',\n",
       " 'BROKERAGE',\n",
       " 'BUILDING']"
      ]
     },
     "execution_count": 50,
     "metadata": {},
     "output_type": "execute_result"
    }
   ],
   "source": [
    "sorted(industry_clusters)[:10]"
   ]
  },
  {
   "cell_type": "code",
   "execution_count": 51,
   "metadata": {
    "collapsed": false
   },
   "outputs": [
    {
     "data": {
      "text/plain": [
       "['BUSINESS',\n",
       " 'CALL',\n",
       " 'CENTER',\n",
       " 'COMPUTER',\n",
       " 'CONSTRUCTION',\n",
       " 'DEPARTMENT',\n",
       " 'DESIGN',\n",
       " 'DEVELOPMENT',\n",
       " 'DISTRIBUTION',\n",
       " 'EDUCATION']"
      ]
     },
     "execution_count": 51,
     "metadata": {},
     "output_type": "execute_result"
    }
   ],
   "source": [
    "sorted(job_industry_clusters)[:10]"
   ]
  },
  {
   "cell_type": "code",
   "execution_count": 61,
   "metadata": {
    "collapsed": false,
    "scrolled": true
   },
   "outputs": [
    {
     "name": "stdout",
     "output_type": "stream",
     "text": [
      "CPU times: user 36 ms, sys: 8 ms, total: 44 ms\n",
      "Wall time: 40.4 ms\n"
     ]
    }
   ],
   "source": [
    "%%time\n",
    "\n",
    "import analysis\n",
    "reload(analysis)\n",
    "from analysis import *\n",
    "\n",
    "# note: pandas and sklearn modules should be installed\n",
    "# initializes a likelihood data frame based on row and column labels.\n",
    "# Performs a content-based filtering technique using features.\n",
    "# vectorizer can be 'tfidf' or 'count'\n",
    "\n",
    "CourseIndustry = LikelihoodMatrix(course_clusters, industry_clusters, vectorizer='tfidf', ngram_range=(3,4))"
   ]
  },
  {
   "cell_type": "code",
   "execution_count": 62,
   "metadata": {
    "collapsed": false
   },
   "outputs": [
    {
     "data": {
      "text/html": [
       "<div style=\"max-height:1000px;max-width:1500px;overflow:auto;\">\n",
       "<table border=\"1\" class=\"dataframe\">\n",
       "  <thead>\n",
       "    <tr style=\"text-align: right;\">\n",
       "      <th></th>\n",
       "      <th>ENGINE</th>\n",
       "      <th>REPAIR</th>\n",
       "      <th>HARDWARE</th>\n",
       "      <th>PRODUCT</th>\n",
       "      <th>HOSPITALITY</th>\n",
       "      <th>LINE</th>\n",
       "      <th>CAFE</th>\n",
       "      <th>CUSTOMER</th>\n",
       "      <th>OFFICE</th>\n",
       "      <th>POWER</th>\n",
       "      <th>...</th>\n",
       "      <th>DEVELOPMENT</th>\n",
       "      <th>CITY</th>\n",
       "      <th>PLANT</th>\n",
       "      <th>PUBLISHING</th>\n",
       "      <th>SALES</th>\n",
       "      <th>FABRICATION</th>\n",
       "      <th>HEALTH</th>\n",
       "      <th>ASSISTANT</th>\n",
       "      <th>DISTRIBUTOR</th>\n",
       "      <th>BROKERAGE</th>\n",
       "    </tr>\n",
       "  </thead>\n",
       "  <tbody>\n",
       "    <tr>\n",
       "      <th>LINGUISTICS</th>\n",
       "      <td> 0</td>\n",
       "      <td> 0</td>\n",
       "      <td> 0</td>\n",
       "      <td> 0</td>\n",
       "      <td> 0</td>\n",
       "      <td> 0.111282</td>\n",
       "      <td> 0</td>\n",
       "      <td> 0</td>\n",
       "      <td> 0</td>\n",
       "      <td> 0</td>\n",
       "      <td>...</td>\n",
       "      <td> 0.000000</td>\n",
       "      <td> 0.000000</td>\n",
       "      <td> 0</td>\n",
       "      <td> 0.020568</td>\n",
       "      <td> 0</td>\n",
       "      <td> 0</td>\n",
       "      <td> 0</td>\n",
       "      <td> 0.045183</td>\n",
       "      <td> 0.042346</td>\n",
       "      <td> 0</td>\n",
       "    </tr>\n",
       "    <tr>\n",
       "      <th>STUDIES</th>\n",
       "      <td> 0</td>\n",
       "      <td> 0</td>\n",
       "      <td> 0</td>\n",
       "      <td> 0</td>\n",
       "      <td> 0</td>\n",
       "      <td> 0.000000</td>\n",
       "      <td> 0</td>\n",
       "      <td> 0</td>\n",
       "      <td> 0</td>\n",
       "      <td> 0</td>\n",
       "      <td>...</td>\n",
       "      <td> 0.000000</td>\n",
       "      <td> 0.000000</td>\n",
       "      <td> 0</td>\n",
       "      <td> 0.000000</td>\n",
       "      <td> 0</td>\n",
       "      <td> 0</td>\n",
       "      <td> 0</td>\n",
       "      <td> 0.000000</td>\n",
       "      <td> 0.000000</td>\n",
       "      <td> 0</td>\n",
       "    </tr>\n",
       "    <tr>\n",
       "      <th>HARDWARE</th>\n",
       "      <td> 0</td>\n",
       "      <td> 0</td>\n",
       "      <td> 1</td>\n",
       "      <td> 0</td>\n",
       "      <td> 0</td>\n",
       "      <td> 0.000000</td>\n",
       "      <td> 0</td>\n",
       "      <td> 0</td>\n",
       "      <td> 0</td>\n",
       "      <td> 0</td>\n",
       "      <td>...</td>\n",
       "      <td> 0.000000</td>\n",
       "      <td> 0.000000</td>\n",
       "      <td> 0</td>\n",
       "      <td> 0.000000</td>\n",
       "      <td> 0</td>\n",
       "      <td> 0</td>\n",
       "      <td> 0</td>\n",
       "      <td> 0.000000</td>\n",
       "      <td> 0.000000</td>\n",
       "      <td> 0</td>\n",
       "    </tr>\n",
       "    <tr>\n",
       "      <th>HOSPITALITY</th>\n",
       "      <td> 0</td>\n",
       "      <td> 0</td>\n",
       "      <td> 0</td>\n",
       "      <td> 0</td>\n",
       "      <td> 1</td>\n",
       "      <td> 0.000000</td>\n",
       "      <td> 0</td>\n",
       "      <td> 0</td>\n",
       "      <td> 0</td>\n",
       "      <td> 0</td>\n",
       "      <td>...</td>\n",
       "      <td> 0.000000</td>\n",
       "      <td> 0.108406</td>\n",
       "      <td> 0</td>\n",
       "      <td> 0.000000</td>\n",
       "      <td> 0</td>\n",
       "      <td> 0</td>\n",
       "      <td> 0</td>\n",
       "      <td> 0.000000</td>\n",
       "      <td> 0.000000</td>\n",
       "      <td> 0</td>\n",
       "    </tr>\n",
       "    <tr>\n",
       "      <th>ELEMENTARY</th>\n",
       "      <td> 0</td>\n",
       "      <td> 0</td>\n",
       "      <td> 0</td>\n",
       "      <td> 0</td>\n",
       "      <td> 0</td>\n",
       "      <td> 0.000000</td>\n",
       "      <td> 0</td>\n",
       "      <td> 0</td>\n",
       "      <td> 0</td>\n",
       "      <td> 0</td>\n",
       "      <td>...</td>\n",
       "      <td> 0.112116</td>\n",
       "      <td> 0.000000</td>\n",
       "      <td> 0</td>\n",
       "      <td> 0.000000</td>\n",
       "      <td> 0</td>\n",
       "      <td> 0</td>\n",
       "      <td> 0</td>\n",
       "      <td> 0.000000</td>\n",
       "      <td> 0.000000</td>\n",
       "      <td> 0</td>\n",
       "    </tr>\n",
       "  </tbody>\n",
       "</table>\n",
       "<p>5 rows × 146 columns</p>\n",
       "</div>"
      ],
      "text/plain": [
       "             ENGINE  REPAIR  HARDWARE  PRODUCT  HOSPITALITY      LINE  CAFE  \\\n",
       "LINGUISTICS       0       0         0        0            0  0.111282     0   \n",
       "STUDIES           0       0         0        0            0  0.000000     0   \n",
       "HARDWARE          0       0         1        0            0  0.000000     0   \n",
       "HOSPITALITY       0       0         0        0            1  0.000000     0   \n",
       "ELEMENTARY        0       0         0        0            0  0.000000     0   \n",
       "\n",
       "             CUSTOMER  OFFICE  POWER    ...      DEVELOPMENT      CITY  PLANT  \\\n",
       "LINGUISTICS         0       0      0    ...         0.000000  0.000000      0   \n",
       "STUDIES             0       0      0    ...         0.000000  0.000000      0   \n",
       "HARDWARE            0       0      0    ...         0.000000  0.000000      0   \n",
       "HOSPITALITY         0       0      0    ...         0.000000  0.108406      0   \n",
       "ELEMENTARY          0       0      0    ...         0.112116  0.000000      0   \n",
       "\n",
       "             PUBLISHING  SALES  FABRICATION  HEALTH  ASSISTANT  DISTRIBUTOR  \\\n",
       "LINGUISTICS    0.020568      0            0       0   0.045183     0.042346   \n",
       "STUDIES        0.000000      0            0       0   0.000000     0.000000   \n",
       "HARDWARE       0.000000      0            0       0   0.000000     0.000000   \n",
       "HOSPITALITY    0.000000      0            0       0   0.000000     0.000000   \n",
       "ELEMENTARY     0.000000      0            0       0   0.000000     0.000000   \n",
       "\n",
       "             BROKERAGE  \n",
       "LINGUISTICS          0  \n",
       "STUDIES              0  \n",
       "HARDWARE             0  \n",
       "HOSPITALITY          0  \n",
       "ELEMENTARY           0  \n",
       "\n",
       "[5 rows x 146 columns]"
      ]
     },
     "execution_count": 62,
     "metadata": {},
     "output_type": "execute_result"
    }
   ],
   "source": [
    "CourseIndustry.dataframe.head()"
   ]
  },
  {
   "cell_type": "code",
   "execution_count": 63,
   "metadata": {
    "collapsed": false,
    "scrolled": true
   },
   "outputs": [
    {
     "name": "stdout",
     "output_type": "stream",
     "text": [
      "CPU times: user 16 ms, sys: 0 ns, total: 16 ms\n",
      "Wall time: 13.6 ms\n"
     ]
    }
   ],
   "source": [
    "%%time\n",
    "\n",
    "# note: pandas and sklearn modules should be installed\n",
    "# derives the change in likelihood if an entry\n",
    "\n",
    "# computes delta likelihood using the following steps: (non-verbatim)\n",
    "# clabels = df.column_labels\n",
    "# rlabels = df.row_labels\n",
    "# vr = [cos_similarity(ur, label) for label in rlabels]\n",
    "# vc = [cos_similarity(vr, label) for label in clabels]\n",
    "# dL = vr * vc^T\n",
    "\n",
    "d1 = CourseIndustry.delta('CALLCENTE', 'BUSINESS')\n",
    "d2 = CourseIndustry.delta('MARKETING', 'RESEARCH & DEVELOPMENT')\n",
    "d3 = CourseIndustry.delta('AGRICULTURE', 'FINANCE')"
   ]
  },
  {
   "cell_type": "code",
   "execution_count": 66,
   "metadata": {
    "collapsed": false
   },
   "outputs": [
    {
     "name": "stdout",
     "output_type": "stream",
     "text": [
      "CPU times: user 4 ms, sys: 0 ns, total: 4 ms\n",
      "Wall time: 2.07 ms\n"
     ]
    }
   ],
   "source": [
    "%%time\n",
    "\n",
    "# dynamic update of likelihood matrix\n",
    "# just accumulate small likelihoods\n",
    "# accounts for relative likelihood and not absolute percentage\n",
    "\n",
    "users = [\n",
    "    ('COMPUTER SCIENCE', 'INFORMATION TECHNOLOGY'),\n",
    "    ('ACCOUNTING', 'BUSINESS'),\n",
    "    ('BUSINESS ADMINSTRATION', 'FINANCE'),\n",
    "    ('MARKETING', 'FINANCE'),\n",
    "    ('MATHEMATICS', 'FINANCE'),\n",
    "    ('SOCIAL SCIENCE', 'CONSULATION'),\n",
    "    ('LITERATURE', 'WRITING'),\n",
    "    ('MANAGEMENT', 'BANKING'),\n",
    "    ('SCIENCES', 'RESEARCH')\n",
    "]\n",
    "\n",
    "for course, industry in users:\n",
    "    CourseIndustry.add_match(course, industry)"
   ]
  },
  {
   "cell_type": "code",
   "execution_count": 67,
   "metadata": {
    "collapsed": false
   },
   "outputs": [
    {
     "name": "stdout",
     "output_type": "stream",
     "text": [
      "CPU times: user 4 ms, sys: 0 ns, total: 4 ms\n",
      "Wall time: 1.38 ms\n"
     ]
    },
    {
     "data": {
      "text/plain": [
       "ACCOUNTING      3.000000\n",
       "ACCOUNTANCY     1.778375\n",
       "BUSINESS        1.000000\n",
       "AGRIBUSINESS    0.751409\n",
       "NURSING         0.081877\n",
       "MARINE          0.072866\n",
       "ENGINEER        0.060532\n",
       "MEDICINE        0.059967\n",
       "ADVERTISING     0.056990\n",
       "ENGINEERING     0.049126\n",
       "Name: BUSINESS, dtype: float64"
      ]
     },
     "execution_count": 67,
     "metadata": {},
     "output_type": "execute_result"
    }
   ],
   "source": [
    "# get specific likelihood coefficient of a pair of clusters\n",
    "# e.g. likelihood of courses from the BUSINESS industry\n",
    "\n",
    "# note: 1.00 does not mean 100%\n",
    "# likelihood metric is relative\n",
    "# the more data, the more accurate the prediction\n",
    "\n",
    "%time CourseIndustry.dataframe.BUSINESS.nlargest(10)"
   ]
  },
  {
   "cell_type": "code",
   "execution_count": 68,
   "metadata": {
    "collapsed": false
   },
   "outputs": [
    {
     "name": "stdout",
     "output_type": "stream",
     "text": [
      "CPU times: user 4 ms, sys: 0 ns, total: 4 ms\n",
      "Wall time: 1.96 ms\n"
     ]
    },
    {
     "data": {
      "text/plain": [
       "RESEARCH       2.711620\n",
       "INFORMATION    1.438259\n",
       "TECHNOLOGY     1.340372\n",
       "CONSULTING     1.205249\n",
       "CONSULTANCY    1.080940\n",
       "AGENCY         0.115105\n",
       "Name: SCIENCE, dtype: float64"
      ]
     },
     "execution_count": 68,
     "metadata": {},
     "output_type": "execute_result"
    }
   ],
   "source": [
    "%%time\n",
    "\n",
    "# transpose data frame for rows\n",
    "CourseIndustry.dataframe.T.SCIENCE.nlargest(6)"
   ]
  },
  {
   "cell_type": "code",
   "execution_count": 69,
   "metadata": {
    "collapsed": false
   },
   "outputs": [
    {
     "name": "stdout",
     "output_type": "stream",
     "text": [
      "CPU times: user 0 ns, sys: 0 ns, total: 0 ns\n",
      "Wall time: 2.27 ms\n"
     ]
    }
   ],
   "source": [
    "%%time\n",
    "\n",
    "# add count from a specific matching pair\n",
    "# note: this is synonymous to CourseIndustry.dataframe += CourseIndustry.delta('PHYSICS', 'REPAIR SUPPLY')\n",
    "\n",
    "CourseIndustry.add_match('PHYSICS', 'RESEARCH')"
   ]
  },
  {
   "cell_type": "code",
   "execution_count": 70,
   "metadata": {
    "collapsed": false
   },
   "outputs": [
    {
     "name": "stdout",
     "output_type": "stream",
     "text": [
      "CPU times: user 0 ns, sys: 0 ns, total: 0 ns\n",
      "Wall time: 849 µs\n"
     ]
    }
   ],
   "source": [
    "%%time\n",
    "\n",
    "# returns a vector of recommend likelihood of a course from a specific industry\n",
    "# since courses are rows, we find column matches\n",
    "# we can also make the method output percentages\n",
    "\n",
    "matches = CourseIndustry.find_column_matches('PHYSICS', with_labels = True, percentage = True)"
   ]
  },
  {
   "cell_type": "code",
   "execution_count": 71,
   "metadata": {
    "collapsed": false
   },
   "outputs": [
    {
     "data": {
      "text/plain": [
       "RESEARCH       77.086372\n",
       "MEDICAL         8.036202\n",
       "ELECTRICAL      6.153122\n",
       "ELECTRONICS     3.276949\n",
       "CALLCENTER      2.002045\n",
       "dtype: float64"
      ]
     },
     "execution_count": 71,
     "metadata": {},
     "output_type": "execute_result"
    }
   ],
   "source": [
    "# rank recommendations with the highest percentage\n",
    "matches.nlargest(5)"
   ]
  },
  {
   "cell_type": "code",
   "execution_count": 72,
   "metadata": {
    "collapsed": false,
    "scrolled": true
   },
   "outputs": [
    {
     "name": "stdout",
     "output_type": "stream",
     "text": [
      "CPU times: user 4 ms, sys: 0 ns, total: 4 ms\n",
      "Wall time: 4.15 ms\n"
     ]
    },
    {
     "data": {
      "text/plain": [
       "1.1956868252289226"
      ]
     },
     "execution_count": 72,
     "metadata": {},
     "output_type": "execute_result"
    }
   ],
   "source": [
    "%%time\n",
    "\n",
    "# we can also get the recommendation score of a specific pair\n",
    "# this is equivalent to SV1^T * LM * SV2^T\n",
    "# where SV is similarity_vector, LM is likelihood matrix\n",
    "\n",
    "CourseIndustry.recommendation_score('PHYSICS', 'SCIENTIFIC RESEARCH')"
   ]
  },
  {
   "cell_type": "code",
   "execution_count": 73,
   "metadata": {
    "collapsed": false
   },
   "outputs": [
    {
     "name": "stdout",
     "output_type": "stream",
     "text": [
      "CPU times: user 40 ms, sys: 0 ns, total: 40 ms\n",
      "Wall time: 39.6 ms\n"
     ]
    }
   ],
   "source": [
    "%%time\n",
    "\n",
    "# You can also get the dot product of data frames\n",
    "# to get bridged likelihood\n",
    "\n",
    "IndustryJob = LikelihoodMatrix(industry_clusters, job_industry_clusters, vectorizer='tfidf', ngram_range=(3,4))\n",
    "CourseJob = CourseIndustry * IndustryJob"
   ]
  },
  {
   "cell_type": "code",
   "execution_count": 74,
   "metadata": {
    "collapsed": false
   },
   "outputs": [
    {
     "data": {
      "text/plain": [
       "0.0"
      ]
     },
     "execution_count": 74,
     "metadata": {},
     "output_type": "execute_result"
    }
   ],
   "source": [
    "CourseJob.recommendation_score('PHYSICS', 'MANAGEMENT')"
   ]
  },
  {
   "cell_type": "code",
   "execution_count": 75,
   "metadata": {
    "collapsed": false
   },
   "outputs": [
    {
     "data": {
      "text/plain": [
       "0.0"
      ]
     },
     "execution_count": 75,
     "metadata": {},
     "output_type": "execute_result"
    }
   ],
   "source": [
    "CourseJob.recommendation_score('COMPUTER SCIENCE', 'ARCHITECTURE')"
   ]
  },
  {
   "cell_type": "code",
   "execution_count": 76,
   "metadata": {
    "collapsed": false
   },
   "outputs": [
    {
     "data": {
      "text/plain": [
       "0.0"
      ]
     },
     "execution_count": 76,
     "metadata": {},
     "output_type": "execute_result"
    }
   ],
   "source": [
    "CourseJob.recommendation_score('COMPUTER SCIENCE', 'TECHNOLOGY')"
   ]
  },
  {
   "cell_type": "code",
   "execution_count": 77,
   "metadata": {
    "collapsed": true
   },
   "outputs": [],
   "source": [
    "# after adding a match to course and a job, recommendation score should go up\n",
    "CourseJob.add_match('COMPUTER SCIENCE', 'TECHNOLOGY')\n",
    "CourseJob.add_match('PROGRAMMING', 'COMPUTER')"
   ]
  },
  {
   "cell_type": "code",
   "execution_count": 78,
   "metadata": {
    "collapsed": false
   },
   "outputs": [
    {
     "data": {
      "text/plain": [
       "1.5123227260112406"
      ]
     },
     "execution_count": 78,
     "metadata": {},
     "output_type": "execute_result"
    }
   ],
   "source": [
    "CourseJob.recommendation_score('PROGRAMMING', 'COMPUTER')"
   ]
  },
  {
   "cell_type": "code",
   "execution_count": null,
   "metadata": {
    "collapsed": true
   },
   "outputs": [],
   "source": []
  }
 ],
 "metadata": {
  "kernelspec": {
   "display_name": "Python 2",
   "language": "python",
   "name": "python2"
  },
  "language_info": {
   "codemirror_mode": {
    "name": "ipython",
    "version": 2
   },
   "file_extension": ".py",
   "mimetype": "text/x-python",
   "name": "python",
   "nbconvert_exporter": "python",
   "pygments_lexer": "ipython2",
   "version": "2.7.9"
  }
 },
 "nbformat": 4,
 "nbformat_minor": 0
}
