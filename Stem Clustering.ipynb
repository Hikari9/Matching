{
 "cells": [
  {
   "cell_type": "code",
   "execution_count": 1,
   "metadata": {
    "collapsed": false,
    "scrolled": true
   },
   "outputs": [
    {
     "name": "stdout",
     "output_type": "stream",
     "text": [
      "CPU times: user 40.7 ms, sys: 39 µs, total: 40.7 ms\n",
      "Wall time: 39.7 ms\n"
     ]
    }
   ],
   "source": [
    "%%time\n",
    "from main import *\n",
    "\n",
    "raw_courses = read('data/courses.txt')\n",
    "raw_industries = read('data/industries.txt')"
   ]
  },
  {
   "cell_type": "code",
   "execution_count": 2,
   "metadata": {
    "collapsed": false
   },
   "outputs": [
    {
     "name": "stdout",
     "output_type": "stream",
     "text": [
      "CPU times: user 11.1 s, sys: 56.2 ms, total: 11.1 s\n",
      "Wall time: 11 s\n"
     ]
    }
   ],
   "source": [
    "%%time\n",
    "from clean import clean\n",
    "# note: enchant module and library should be installed\n",
    "\n",
    "clean_courses = clean(raw_courses, 'course', 'data/course_dictionary.txt')\n",
    "clean_industries = clean(raw_industries, 'industry', 'data/industry_dictionary.txt')"
   ]
  },
  {
   "cell_type": "code",
   "execution_count": 3,
   "metadata": {
    "collapsed": false,
    "scrolled": false
   },
   "outputs": [
    {
     "name": "stdout",
     "output_type": "stream",
     "text": [
      "CPU times: user 67.7 ms, sys: 75 µs, total: 67.8 ms\n",
      "Wall time: 56.3 ms\n"
     ]
    }
   ],
   "source": [
    "%%time\n",
    "from clustering import stem_cluster\n",
    "# note: stemming module should be installed\n",
    " \n",
    "course_clusters = stem_cluster(clean_courses)\n",
    "industry_clusters = stem_cluster(clean_industries)"
   ]
  },
  {
   "cell_type": "code",
   "execution_count": 5,
   "metadata": {
    "collapsed": false,
    "scrolled": true
   },
   "outputs": [
    {
     "data": {
      "text/plain": [
       "['ACCOUNTING',\n",
       " 'ADMINISTRATION',\n",
       " 'ADVERTISING',\n",
       " 'AGRIBUSINESS',\n",
       " 'AGRICULTURE',\n",
       " 'ANIMATION',\n",
       " 'APPLIED',\n",
       " 'ARCHITECTURE',\n",
       " 'ART',\n",
       " 'ASSOCIATES',\n",
       " 'AUTOMOTIVE',\n",
       " 'BANKING',\n",
       " 'BASIC',\n",
       " 'BIOLOGY',\n",
       " 'BOOKKEEPING',\n",
       " 'BUSINESS',\n",
       " 'CALLCENTER',\n",
       " 'CHEMISTRY',\n",
       " 'CIVIL',\n",
       " 'COMMERCE',\n",
       " 'COMMERCIAL',\n",
       " 'COMMUNICATION',\n",
       " 'COMPUTER',\n",
       " 'CONSUMER',\n",
       " 'CRIMINOLOGY',\n",
       " 'CRUISE',\n",
       " 'CULINARY',\n",
       " 'CUSTOMS',\n",
       " 'DESIGN',\n",
       " 'DEVELOPMENT',\n",
       " 'DIGITAL',\n",
       " 'DRAFTING',\n",
       " 'ECONOMICS',\n",
       " 'EDUCATION',\n",
       " 'ELECTRICAL',\n",
       " 'ELECTRONIC',\n",
       " 'ELEMENTARY',\n",
       " 'ENGINEER',\n",
       " 'ENGLISH',\n",
       " 'ENTREPRENEURSHIP',\n",
       " 'ENVIRONMENTAL',\n",
       " 'FINANCE',\n",
       " 'FINANCIAL',\n",
       " 'FOOD',\n",
       " 'FOREIGN',\n",
       " 'GENERAL',\n",
       " 'HARDWARE',\n",
       " 'HEALTH',\n",
       " 'HISTORY',\n",
       " 'HOSPITALITY',\n",
       " 'HOTEL',\n",
       " 'HOUSEKEEPING',\n",
       " 'HUMAN',\n",
       " 'INDUSTRY',\n",
       " 'INFORMATION',\n",
       " 'INSTALLATION',\n",
       " 'INTERDISCIPLINARY',\n",
       " 'INTERNATIONAL',\n",
       " 'JOURNALISM',\n",
       " 'LANGUAGE',\n",
       " 'LAW',\n",
       " 'LEGAL',\n",
       " 'LIBERAL',\n",
       " 'LINGUISTICS',\n",
       " 'LITERATURE',\n",
       " 'MAINTENANCE',\n",
       " 'MANAGEMENT',\n",
       " 'MARINE',\n",
       " 'MARKETING',\n",
       " 'MASS',\n",
       " 'MATHEMATICS',\n",
       " 'MECHANIC',\n",
       " 'MEDIA',\n",
       " 'MEDICAL',\n",
       " 'MEDICINE',\n",
       " 'MULTIMEDIA',\n",
       " 'NCII',\n",
       " 'NETWORK',\n",
       " 'NURSING',\n",
       " 'NUTRITION',\n",
       " 'OFFICE',\n",
       " 'OPERATION',\n",
       " 'PHILOSOPHY',\n",
       " 'PHYSICS',\n",
       " 'POLITICAL',\n",
       " 'PRODUCTION',\n",
       " 'PROGRAM',\n",
       " 'PSYCHOLOGY',\n",
       " 'PUBLIC',\n",
       " 'RELATIONS',\n",
       " 'RESOURCE',\n",
       " 'RESTAURANT',\n",
       " 'SCIENCE',\n",
       " 'SECONDARY',\n",
       " 'SECRETARIAL',\n",
       " 'SERVICE',\n",
       " 'SOCIAL',\n",
       " 'SOCIOLOGY',\n",
       " 'SOFTWARE',\n",
       " 'STUDIES',\n",
       " 'SYSTEM',\n",
       " 'TEACHER',\n",
       " 'TECHNICAL',\n",
       " 'TECHNICIAN',\n",
       " 'TECHNOLOGY',\n",
       " 'THEATER',\n",
       " 'THEOLOGY',\n",
       " 'THERAPY',\n",
       " 'TOURISM',\n",
       " 'TRAINING',\n",
       " 'TRANSPORTATION',\n",
       " 'TRAVEL',\n",
       " 'WEB',\n",
       " 'WRITING']"
      ]
     },
     "execution_count": 5,
     "metadata": {},
     "output_type": "execute_result"
    }
   ],
   "source": [
    "sorted(course_clusters)"
   ]
  },
  {
   "cell_type": "code",
   "execution_count": 6,
   "metadata": {
    "collapsed": false,
    "scrolled": true
   },
   "outputs": [
    {
     "data": {
      "text/plain": [
       "['ACCOUNTING',\n",
       " 'ADVERTISING',\n",
       " 'AGENCY',\n",
       " 'ASSISTANT',\n",
       " 'AUTOMOTIVE',\n",
       " 'BANKING',\n",
       " 'BEAUTY',\n",
       " 'BPO',\n",
       " 'BROKERAGE',\n",
       " 'BUILDING',\n",
       " 'BUSINESS',\n",
       " 'CAFE',\n",
       " 'CALLCENTER',\n",
       " 'CARE',\n",
       " 'CATERING',\n",
       " 'CENTER',\n",
       " 'CITY',\n",
       " 'CIVIL',\n",
       " 'CLINIC',\n",
       " 'COMMERCIAL',\n",
       " 'COMMUNICATIONS',\n",
       " 'COMPANY',\n",
       " 'COMPUTER',\n",
       " 'CONSTRUCTION',\n",
       " 'CONSULTING',\n",
       " 'CONTENT',\n",
       " 'CORPORATION',\n",
       " 'CUSTOMER',\n",
       " 'DATA',\n",
       " 'DEALER',\n",
       " 'DENTAL',\n",
       " 'DEPARTMENT',\n",
       " 'DESIGN',\n",
       " 'DEVELOPMENT',\n",
       " 'DISTRIBUTION',\n",
       " 'DISTRIBUTOR',\n",
       " 'EDUCATION',\n",
       " 'ELECTRICAL',\n",
       " 'ELECTRONIC',\n",
       " 'ENGINE',\n",
       " 'ENGLISH',\n",
       " 'ENTERTAINMENT',\n",
       " 'ENTRY',\n",
       " 'EQUIPMENT',\n",
       " 'ESTATE',\n",
       " 'EVENTS',\n",
       " 'FABRICATION',\n",
       " 'FACTORY',\n",
       " 'FAST',\n",
       " 'FINANCE',\n",
       " 'FINANCIAL',\n",
       " 'FIRM',\n",
       " 'FOOD',\n",
       " 'FOR',\n",
       " 'FORWARDING',\n",
       " 'FURNITURE',\n",
       " 'GAS',\n",
       " 'GENERAL',\n",
       " 'GOVERNMENT',\n",
       " 'GRAPHIC',\n",
       " 'HARDWARE',\n",
       " 'HEALTH',\n",
       " 'HOME',\n",
       " 'HOSPITALITY',\n",
       " 'HOTEL',\n",
       " 'HOUSE',\n",
       " 'INDUSTRY',\n",
       " 'INFORMATION',\n",
       " 'INSTITUTION',\n",
       " 'INSURANCE',\n",
       " 'INTERNATIONAL',\n",
       " 'INTERNET',\n",
       " 'LABORATORY',\n",
       " 'LINE',\n",
       " 'MAINTENANCE',\n",
       " 'MALL',\n",
       " 'MANAGEMENT',\n",
       " 'MANILA',\n",
       " 'MANPOWER',\n",
       " 'MANUFACTURER',\n",
       " 'MARKETING',\n",
       " 'MEDIA',\n",
       " 'MEDICAL',\n",
       " 'MINING',\n",
       " 'MOBILE',\n",
       " 'MOTORCYCLE',\n",
       " 'NON',\n",
       " 'OFFICE',\n",
       " 'OIL',\n",
       " 'ORGANIZATION',\n",
       " 'OUTSOURCING',\n",
       " 'PARTS',\n",
       " 'PHILIPPINES',\n",
       " 'PLANT',\n",
       " 'POWER',\n",
       " 'PRINTING',\n",
       " 'PRIVATE',\n",
       " 'PROCESS',\n",
       " 'PRODUCT',\n",
       " 'PROJECT',\n",
       " 'PROVIDER',\n",
       " 'PUBLIC',\n",
       " 'PUBLISHING',\n",
       " 'REAL',\n",
       " 'REPAIR',\n",
       " 'RESEARCH',\n",
       " 'RESTAURANT',\n",
       " 'RETAIL',\n",
       " 'SALES',\n",
       " 'SCHOOL',\n",
       " 'SECURITY',\n",
       " 'SELLING',\n",
       " 'SEO',\n",
       " 'SERVICE',\n",
       " 'SHIPPING',\n",
       " 'SHOP',\n",
       " 'SOCIAL',\n",
       " 'SOFTWARE',\n",
       " 'SOLUTIONS',\n",
       " 'STEEL',\n",
       " 'STORE',\n",
       " 'SUPPLY',\n",
       " 'SUPPORT',\n",
       " 'TEACHING',\n",
       " 'TECHNOLOGY',\n",
       " 'TRADING',\n",
       " 'TRAINING',\n",
       " 'TUTORIAL',\n",
       " 'UNIVERSITY',\n",
       " 'VIRTUAL',\n",
       " 'WATER',\n",
       " 'WEB',\n",
       " 'WHOLESALE',\n",
       " 'WORK',\n",
       " 'WRITING']"
      ]
     },
     "execution_count": 6,
     "metadata": {},
     "output_type": "execute_result"
    }
   ],
   "source": [
    "sorted(industry_clusters)"
   ]
  },
  {
   "cell_type": "code",
   "execution_count": null,
   "metadata": {
    "collapsed": true
   },
   "outputs": [],
   "source": []
  }
 ],
 "metadata": {
  "kernelspec": {
   "display_name": "Python 2",
   "language": "python",
   "name": "python2"
  },
  "language_info": {
   "codemirror_mode": {
    "name": "ipython",
    "version": 2
   },
   "file_extension": ".py",
   "mimetype": "text/x-python",
   "name": "python",
   "nbconvert_exporter": "python",
   "pygments_lexer": "ipython2",
   "version": "2.7.9"
  }
 },
 "nbformat": 4,
 "nbformat_minor": 0
}
